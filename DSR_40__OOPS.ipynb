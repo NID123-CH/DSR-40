{
  "cells": [
    {
      "cell_type": "markdown",
      "metadata": {
        "id": "view-in-github",
        "colab_type": "text"
      },
      "source": [
        "<a href=\"https://colab.research.google.com/github/NID123-CH/DSR-40/blob/main/DSR_40__OOPS.ipynb\" target=\"_parent\"><img src=\"https://colab.research.google.com/assets/colab-badge.svg\" alt=\"Open In Colab\"/></a>"
      ]
    },
    {
      "cell_type": "markdown",
      "metadata": {
        "id": "7qc0GUDDW9aB"
      },
      "source": [
        "# OOP 1: Introduction to Classes and Objects\n",
        "\n",
        "In this notebook, we'll explore the basic concepts of Object-Oriented Programming (OOP) in Python, focusing on classes and objects. We'll use examples related to data science to illustrate these concepts.\n",
        "\n",
        "## Table of Contents\n",
        "\n",
        "1. [What is a Class?](#1)\n",
        "2. [Creating an Object](#2)\n",
        "3. [Defining Attributes](#3)\n",
        "4. [Defining Methods](#4)\n",
        "5. [Example: Data Scientist Class](#5)\n",
        "6. [Exercise: Build a Class](#6)\n"
      ]
    },
    {
      "cell_type": "markdown",
      "metadata": {
        "id": "XKRp80ApW9aE"
      },
      "source": [
        "---\n",
        "## 1. What is a Class? <a id=\"1\"></a>\n",
        "A class is a blueprint for creating objects. Classes encapsulate data and functions that operate on the data.\n",
        "\n",
        "**Syntax**:\n",
        "\n",
        "```python\n",
        "class ClassName:\n",
        "    # class attributes and methods\n",
        "```\n",
        "\n",
        "**Example**:\n",
        "\n",
        "Let's define a simple class `DataScientist`:\n",
        "\n"
      ]
    },
    {
      "cell_type": "code",
      "execution_count": 1,
      "metadata": {
        "id": "hoUSfw_6W9aE"
      },
      "outputs": [],
      "source": [
        "class DataScientist:\n",
        "    pass"
      ]
    },
    {
      "cell_type": "markdown",
      "metadata": {
        "id": "xZZrm_CSW9aF"
      },
      "source": [
        "This defines a new class `DataScientist` with no attributes or methods.\n"
      ]
    },
    {
      "cell_type": "markdown",
      "metadata": {
        "id": "HOTzCtKTW9aG"
      },
      "source": [
        "---\n",
        "## 2. Creating an Object <a id=\"2\"></a>\n",
        "\n",
        "An object is an instance of a class. We can create an object by calling the class like a function.\n",
        "\n",
        "**Example**:\n"
      ]
    },
    {
      "cell_type": "code",
      "execution_count": 2,
      "metadata": {
        "colab": {
          "base_uri": "https://localhost:8080/"
        },
        "id": "YUE1WaS6W9aG",
        "outputId": "d23b2b36-5646-4a05-8cc3-b31e2351bb76"
      },
      "outputs": [
        {
          "output_type": "stream",
          "name": "stdout",
          "text": [
            "<__main__.DataScientist object at 0x7ba560f34280>\n"
          ]
        }
      ],
      "source": [
        "# Creating an object of the DataScientist class\n",
        "person1 = DataScientist()\n",
        "print(person1)"
      ]
    },
    {
      "cell_type": "markdown",
      "metadata": {
        "id": "q3HK69VYW9aG"
      },
      "source": [
        "What can we do with an instance of that class?"
      ]
    },
    {
      "cell_type": "code",
      "execution_count": 3,
      "metadata": {
        "id": "HWXHwEh9W9aH"
      },
      "outputs": [],
      "source": [
        "person1.height = 1.80\n"
      ]
    },
    {
      "cell_type": "code",
      "execution_count": 4,
      "metadata": {
        "colab": {
          "base_uri": "https://localhost:8080/"
        },
        "id": "FAOJQ0UvW9aH",
        "outputId": "76a9a86c-105d-4d0a-9df9-408599540aa7"
      },
      "outputs": [
        {
          "output_type": "execute_result",
          "data": {
            "text/plain": [
              "1.8"
            ]
          },
          "metadata": {},
          "execution_count": 4
        }
      ],
      "source": [
        "person1.height"
      ]
    },
    {
      "cell_type": "code",
      "source": [],
      "metadata": {
        "id": "3TNT2xOAXP5v"
      },
      "execution_count": null,
      "outputs": []
    },
    {
      "cell_type": "markdown",
      "metadata": {
        "id": "O7iokmwtW9aH"
      },
      "source": [
        "---\n",
        "## 3. Defining Attributes <a id=\"3\"></a>"
      ]
    },
    {
      "cell_type": "markdown",
      "metadata": {
        "id": "UfE4f0uqW9aH"
      },
      "source": [
        "### Instance Attributes\n",
        "Instance attributes are specific to each object created from a class. They are defined within the `__init__` method.\n",
        "\n",
        "Use the __init__() function to assign values to object properties, or other operations that are necessary to do when the object is being created:\n",
        "\n",
        "**Example**"
      ]
    },
    {
      "cell_type": "markdown",
      "source": [
        "**The self Parameter**\n",
        "\n",
        "The self parameter is a reference to the current instance of the class, and is used to access variables that belongs to the class."
      ],
      "metadata": {
        "id": "65yDgt2wZnvl"
      }
    },
    {
      "cell_type": "code",
      "execution_count": 5,
      "metadata": {
        "colab": {
          "base_uri": "https://localhost:8080/"
        },
        "id": "I_Y0PVJ1W9aI",
        "outputId": "056c26c4-da54-47d7-e3aa-51d196fba379"
      },
      "outputs": [
        {
          "output_type": "stream",
          "name": "stdout",
          "text": [
            "Alice Senior\n",
            "Bob Junior\n"
          ]
        }
      ],
      "source": [
        "class DataScientist:\n",
        "    def __init__(self, name, expertise_level):\n",
        "        self.name = name\n",
        "        self.expertise_level = expertise_level\n",
        "\n",
        "### Creating objects with instance attributes\n",
        "ds1 = DataScientist(\"Alice\", \"Senior\")\n",
        "ds2 = DataScientist(\"Bob\", \"Junior\")\n",
        "\n",
        "print(ds1.name, ds1.expertise_level)\n",
        "print(ds2.name, ds2.expertise_level)"
      ]
    },
    {
      "cell_type": "markdown",
      "source": [
        "**It does not have to be named self , you can call it whatever you like, but it has to be the first parameter of any function in the class:**"
      ],
      "metadata": {
        "id": "_51EoKujecsV"
      }
    },
    {
      "cell_type": "code",
      "source": [
        "class DataScientist:\n",
        "    def __init__(myclass, name, expertise_level):\n",
        "        myclass.name = name\n",
        "        myclass.expertise_level = expertise_level\n",
        "\n",
        "### Creating objects with instance attributes\n",
        "ds1 = DataScientist(\"Alice\", \"Senior\")\n",
        "ds2 = DataScientist(\"Bob\", \"Junior\")\n",
        "\n",
        "print(ds1.name, ds1.expertise_level)\n",
        "print(ds2.name, ds2.expertise_level)"
      ],
      "metadata": {
        "colab": {
          "base_uri": "https://localhost:8080/"
        },
        "id": "quT7mGAiefJN",
        "outputId": "bbc593ce-55b8-47cc-9e6d-31bc3af335ed"
      },
      "execution_count": 13,
      "outputs": [
        {
          "output_type": "stream",
          "name": "stdout",
          "text": [
            "Alice Senior\n",
            "Bob Junior\n"
          ]
        }
      ]
    },
    {
      "cell_type": "markdown",
      "metadata": {
        "id": "xDoURk62W9aI"
      },
      "source": [
        "### Class Attributes\n",
        "\n",
        "Class attributes are shared by all instances of a class. They are defined directly within the class, outside any methods.\n",
        "\n",
        "**Example**"
      ]
    },
    {
      "cell_type": "code",
      "execution_count": 7,
      "metadata": {
        "colab": {
          "base_uri": "https://localhost:8080/"
        },
        "id": "n0z8V65mW9aI",
        "outputId": "a562b0fd-defd-4e5e-8829-5ba6772c708d"
      },
      "outputs": [
        {
          "output_type": "stream",
          "name": "stdout",
          "text": [
            "0\n",
            "1\n",
            "2\n",
            "Data Scientist\n",
            "Data Scientist\n",
            "Data Scientist\n"
          ]
        }
      ],
      "source": [
        "class DataScientist:\n",
        "    count = 0\n",
        "    role = \"Data Scientist\"  # class attribute\n",
        "\n",
        "    def __init__(self, name, expertise_level):\n",
        "        self.name = name\n",
        "        self.expertise_level = expertise_level\n",
        "        DataScientist.count += 1\n",
        "\n",
        "### Creating objects\n",
        "print(DataScientist.count)\n",
        "ds1 = DataScientist(\"Alice\", \"Senior\")\n",
        "print(DataScientist.count)\n",
        "ds2 = DataScientist(\"Bob\", \"Junior\")\n",
        "print(DataScientist.count)\n",
        "\n",
        "print(ds1.role)\n",
        "print(ds2.role)\n",
        "print(DataScientist.role)  # Accessing the class attribute directly"
      ]
    },
    {
      "cell_type": "markdown",
      "metadata": {
        "id": "h7_9zhSlW9aI"
      },
      "source": [
        "---\n",
        "## 4. Defining Methods <a id=\"4\"></a>\n",
        "\n",
        "Methods are functions that belong to a class. They define behaviors for the objects.\n",
        "\n",
        "**Example**:"
      ]
    },
    {
      "cell_type": "code",
      "execution_count": 9,
      "metadata": {
        "colab": {
          "base_uri": "https://localhost:8080/"
        },
        "id": "E56sggv4W9aI",
        "outputId": "ef752603-f806-407c-c030-7669e52d337c"
      },
      "outputs": [
        {
          "output_type": "stream",
          "name": "stdout",
          "text": [
            "My name is Alice and I am a Senior Data Scientist.\n"
          ]
        }
      ],
      "source": [
        "class DataScientist:\n",
        "    def __init__(self, name, expertise_level):\n",
        "        self.name = name\n",
        "        self.expertise_level = expertise_level\n",
        "\n",
        "    def introduce(self):\n",
        "        print(f\"My name is {self.name} and I am a {self.expertise_level} Data Scientist.\")\n",
        "\n",
        "### Creating an object and calling a method\n",
        "ds1 = DataScientist(\"Alice\", \"Senior\")\n",
        "ds1.introduce()"
      ]
    },
    {
      "cell_type": "code",
      "source": [
        "class DataScientist:\n",
        "    def __init__(self, name, expertise_level, skill):\n",
        "        self.name = name\n",
        "        self.expertise_level = expertise_level\n",
        "        self.skill = skill\n",
        "\n",
        "    def introduce1(self):\n",
        "          print(f\"My name is {self.name} and I am a {self.expertise_level} Data Scientist with skill {self.skill}.\")\n",
        "\n",
        "##Create an object\n",
        "ds1 = DataScientist(\"Nidhi\", \"Senior\", \"Machine Learning\")\n",
        "ds1.introduce1()\n",
        "\n",
        "\n"
      ],
      "metadata": {
        "colab": {
          "base_uri": "https://localhost:8080/"
        },
        "id": "5HO1qlclahjf",
        "outputId": "04e24f67-f42d-4fb3-b565-e45d973d21a9"
      },
      "execution_count": 12,
      "outputs": [
        {
          "output_type": "stream",
          "name": "stdout",
          "text": [
            "My name is Nidhi and I am a Senior Data Scientist with skill Machine Learning.\n"
          ]
        }
      ]
    },
    {
      "cell_type": "markdown",
      "metadata": {
        "id": "9MTjFaTIW9aJ"
      },
      "source": [
        "### Method with Parameters"
      ]
    },
    {
      "cell_type": "code",
      "execution_count": 15,
      "metadata": {
        "colab": {
          "base_uri": "https://localhost:8080/"
        },
        "id": "DBlIkfsrW9aJ",
        "outputId": "01a9c9c7-3759-4cdd-d4ef-7414fea5cafe"
      },
      "outputs": [
        {
          "output_type": "stream",
          "name": "stdout",
          "text": [
            "Alice has acquired a new skill: Machine Learning\n"
          ]
        }
      ],
      "source": [
        "class DataScientist:\n",
        "    def __init__(self, name, expertise_level):\n",
        "        self.name = name\n",
        "        self.expertise_level = expertise_level\n",
        "\n",
        "    def add_skill(self, skill):\n",
        "        print(f\"{self.name} has acquired a new skill: {skill}\")\n",
        "\n",
        "### Adding a skill to a Data Scientist\n",
        "ds1 = DataScientist(\"Alice\", \"Senior\")\n",
        "ds1.add_skill(\"Machine Learning\")"
      ]
    },
    {
      "cell_type": "markdown",
      "metadata": {
        "id": "pQ0Fvf4BW9aJ"
      },
      "source": [
        "---\n",
        "## 5. Example: Data Scientist Class <a id=\"5\"></a>\n",
        "\n",
        "Let's create a class `DataScientist` to illustrate the concepts we've learned so far. This class will include attributes for a data scientist's name, programming languages, and projects. We'll also define methods to add new languages and projects.\n",
        "\n",
        "**Step-by-Step Example**:"
      ]
    },
    {
      "cell_type": "code",
      "execution_count": 14,
      "metadata": {
        "colab": {
          "base_uri": "https://localhost:8080/"
        },
        "id": "t5Fo2gHbW9aJ",
        "outputId": "ab780ceb-cffe-4b7c-85e0-40f25fee6a08"
      },
      "outputs": [
        {
          "output_type": "stream",
          "name": "stdout",
          "text": [
            "Data Scientist: Bob\n",
            "Known Languages: Python, R\n",
            "Projects: Customer Segmentation\n",
            "Data Scientist: Carol\n",
            "Known Languages: Python, SQL\n",
            "Projects: Sales Prediction\n"
          ]
        }
      ],
      "source": [
        "class DataScientist:\n",
        "    def __init__(self, name, languages=None, projects=None):\n",
        "        self.name = name\n",
        "        self.languages = languages if languages is not None else []\n",
        "        self.projects = projects if projects is not None else []\n",
        "\n",
        "    def add_language(self, language):\n",
        "        if language not in self.languages:\n",
        "            self.languages.append(language)\n",
        "        else:\n",
        "            print(f\"{language} is already known.\")\n",
        "\n",
        "    def add_project(self, project):\n",
        "        self.projects.append(project)\n",
        "\n",
        "    def display_info(self):\n",
        "        print(f\"Data Scientist: {self.name}\")\n",
        "        print(f\"Known Languages: {', '.join(self.languages)}\")\n",
        "        print(f\"Projects: {', '.join(self.projects)}\")\n",
        "\n",
        "# Creating a DataScientist object\n",
        "ds1 = DataScientist(\"Bob\")\n",
        "ds1.add_language(\"Python\")\n",
        "ds1.add_language(\"R\")\n",
        "ds1.add_project(\"Customer Segmentation\")\n",
        "ds1.display_info()\n",
        "\n",
        "# Creating another DataScientist object with initial data\n",
        "ds2 = DataScientist(\"Carol\", languages=[\"Python\", \"SQL\"], projects=[\"Sales Prediction\"])\n",
        "ds2.display_info()"
      ]
    },
    {
      "cell_type": "markdown",
      "metadata": {
        "id": "-pk-OEdsW9aK"
      },
      "source": [
        "**Explanation**\n",
        "\n",
        "1. **Class Definition**: We define a DataScientist class with an `__init__` method to initialize the attributes.\n",
        "\n",
        "2. **Adding Languages**: We add a method `add_language` to add new programming languages.\n",
        "\n",
        "3. **Adding Projects**: We add a method `add_project` to add new projects.\n",
        "\n",
        "4. **Displaying Information**: We add a method `display_info` to print out the data scientist's details.\n"
      ]
    },
    {
      "cell_type": "markdown",
      "metadata": {
        "id": "7o9Is2EpW9aK"
      },
      "source": [
        "---\n",
        "## 6. Exercise: Build a Class <a id=\"6\"></a>\n",
        "\n",
        "Create a class `DataFrameAnalyzer` from scratch. This class will be used to analyze *pandas* DataFrames. Implement the class with the following functionalities:\n",
        "\n",
        "**Requirements**\n",
        "\n",
        "- Class Initialization: The class should be initialized with a pandas DataFrame.\n",
        "\n",
        "- Methods to Implement:\n",
        "    - `get_summary()`: Returns a summary of the DataFrame's statistics using dataframe.describe().\n",
        "    - `get_missing_values()`: Returns the number of missing values in each column.\n",
        "    - `get_column_types()`: Returns the data types of each column.\n",
        "\n",
        " You can find references to the pandas API [here](https://pandas.pydata.org/docs/reference/index.html)."
      ]
    },
    {
      "cell_type": "markdown",
      "source": [],
      "metadata": {
        "id": "6RQsac2hjZ01"
      }
    },
    {
      "cell_type": "code",
      "source": [
        "import pandas as pd\n",
        "\n",
        "# your class definition here\n",
        "class DataFrameAnalyzer: #Fixed the class name\n",
        "    def __init__(self,df):\n",
        "        self.df =df\n",
        "\n",
        "    def get_summary(self):\n",
        "        return self.df.describe()\n",
        "\n",
        "    def get_missing_values(self):\n",
        "        return self.df.isnull().sum()\n",
        "\n",
        "    def get_column_types(self):\n",
        "        return self.df.dtypes # Removed the extra parenthesis\n",
        "\n",
        "# Creating a sample DataFrame\n",
        "data = {\n",
        "    'age': [25, 30, 35, 40, None],\n",
        "    'salary': [50000, 60000, 70000, 80000, 90000]\n",
        "}\n",
        "df = pd.DataFrame(data)\n",
        "\n",
        "# Creating a DataFrameAnalyzer object\n",
        "analyzer = DataFrameAnalyzer(df)\n",
        "\n",
        "# Using the methods\n",
        "print(\"Summary Statistics:\\n\", analyzer.get_summary())\n",
        "print(\"\\nMissing Values:\\n\", analyzer.get_missing_values())\n",
        "print(\"\\nColumn Types:\\n\", analyzer.get_column_types())"
      ],
      "metadata": {
        "colab": {
          "base_uri": "https://localhost:8080/"
        },
        "id": "I9PXQ62UlVv4",
        "outputId": "7c9505ff-9ba5-40a3-eb9c-c77a79b4b1f9"
      },
      "execution_count": 17,
      "outputs": [
        {
          "output_type": "stream",
          "name": "stdout",
          "text": [
            "Summary Statistics:\n",
            "              age        salary\n",
            "count   4.000000      5.000000\n",
            "mean   32.500000  70000.000000\n",
            "std     6.454972  15811.388301\n",
            "min    25.000000  50000.000000\n",
            "25%    28.750000  60000.000000\n",
            "50%    32.500000  70000.000000\n",
            "75%    36.250000  80000.000000\n",
            "max    40.000000  90000.000000\n",
            "\n",
            "Missing Values:\n",
            " age       1\n",
            "salary    0\n",
            "dtype: int64\n",
            "\n",
            "Column Types:\n",
            " age       float64\n",
            "salary      int64\n",
            "dtype: object\n"
          ]
        }
      ]
    },
    {
      "cell_type": "markdown",
      "source": [
        "**Special Methods (init, str, repr, etc.)**\n",
        "In this notebook, we'll explore special methods in Python classes, which allow us to define how objects are initialized, represented, and interacted with. We'll illustrate these concepts with examples relevant to data science.\n",
        "\n",
        "Table of Contents\n",
        "Introduction to Special Methods\n",
        "__init__: Object Initialization\n",
        "__str__ and __repr__: Object Representation\n",
        "Other Useful Special Methods\n",
        "__getitem__, __setitem__, __delitem__\n",
        "Comparison Methods (__eq__, __lt__, __le__, __gt__, __ge__, __ne__)\n",
        "Arithmetic Methods (__add__, __sub__, __mul__, __truediv__)\n",
        "__len__\n",
        "__class__\n",
        "__dict__\n",
        "__bases__\n",
        "Example: DataFrame Wrapper Class\n",
        "Exercise: Implementing a Dataset Class"
      ],
      "metadata": {
        "id": "qMb2suNv9XyC"
      }
    },
    {
      "cell_type": "markdown",
      "source": [
        "2. __init__: Object Initialization\n",
        "The __init__ method is called when an object is instantiated. It's used to initialize the object's attributes."
      ],
      "metadata": {
        "id": "u28O1v-59im8"
      }
    },
    {
      "cell_type": "code",
      "source": [
        "class DataScientist:\n",
        "    def __init__(self, name, expertise_level):\n",
        "        self.name = name\n",
        "        self.expertise_level = expertise_level\n",
        "\n",
        "ds = DataScientist(\"Alice\", \"Senior\")\n",
        "print(ds.name, ds.expertise_level)\n",
        ""
      ],
      "metadata": {
        "colab": {
          "base_uri": "https://localhost:8080/"
        },
        "id": "5_VGONCl9bQD",
        "outputId": "cc4f4af6-415d-47b4-ce68-12019e6312c2"
      },
      "execution_count": 1,
      "outputs": [
        {
          "output_type": "stream",
          "name": "stdout",
          "text": [
            "Alice Senior\n"
          ]
        }
      ]
    },
    {
      "cell_type": "markdown",
      "source": [
        "\n",
        "3. __str__ and __repr__: Object Representation\n",
        "The __str__ method defines the string representation of an object, intended to be readable. The __repr__ method defines the official string representation of an object, intended to be unambiguous.\n",
        "\n",
        "Example"
      ],
      "metadata": {
        "id": "ujwQnGCQ9zkv"
      }
    },
    {
      "cell_type": "code",
      "source": [
        "class DataScientist:\n",
        "    def __init__(self, name, expertise_level):\n",
        "        self.name = name\n",
        "        self.expertise_level = expertise_level\n",
        "\n",
        "    def __str__(self):\n",
        "        return f\"DataScientist: {self.name}, Level: {self.expertise_level}\"\n",
        "\n",
        "    def __repr__(self):\n",
        "        return f\"DataScientist(name='{self.name}', expertise_level='{self.expertise_level}')\"\n",
        "\n",
        "ds = DataScientist(\"Alice\", \"Senior\")\n",
        "print(str(ds))  # Calls __str__\n",
        "print(repr(ds))  # Calls __repr__\n",
        ""
      ],
      "metadata": {
        "colab": {
          "base_uri": "https://localhost:8080/"
        },
        "id": "-QSaU5ux9rrV",
        "outputId": "8a41281b-84b2-4cd8-bd69-f45d63d9a3cd"
      },
      "execution_count": 2,
      "outputs": [
        {
          "output_type": "stream",
          "name": "stdout",
          "text": [
            "DataScientist: Alice, Level: Senior\n",
            "DataScientist(name='Alice', expertise_level='Senior')\n"
          ]
        }
      ]
    },
    {
      "cell_type": "markdown",
      "source": [
        "4. Other Useful Special Methods\n",
        "4.1 __getitem__, __setitem__, __delitem__\n",
        "These methods allow objects to use the indexing syntax for getting, setting, and deleting items."
      ],
      "metadata": {
        "id": "c6SdigTZ95p9"
      }
    },
    {
      "cell_type": "code",
      "source": [
        "import pandas as pd\n",
        "\n",
        "class DataFrameWrapper:\n",
        "    def __init__(self, data):\n",
        "        self._data = pd.DataFrame(data)\n",
        "\n",
        "    def __getitem__(self, key):\n",
        "        return self._data[key]\n",
        "\n",
        "    def __setitem__(self, key, value):\n",
        "        self._data[key] = value\n",
        "\n",
        "    def __delitem__(self, key):\n",
        "        del self._data[key]\n",
        "\n",
        "# Usage\n",
        "data = {'age': [25, 30, 35, 40], 'salary': [50000, 60000, 70000, 80000]}\n",
        "df_wrapper = DataFrameWrapper(data)\n",
        "print(df_wrapper['age'])  # __getitem__\n",
        "df_wrapper['bonus'] = [5000, 6000, 7000, 8000]  # __setitem__\n",
        "print(df_wrapper['bonus'])\n",
        "del df_wrapper['age']  # __delitem__\n",
        ""
      ],
      "metadata": {
        "colab": {
          "base_uri": "https://localhost:8080/"
        },
        "id": "Uvmg5a-Q-ACo",
        "outputId": "4a40b39d-fa9f-4041-ae80-08a76c9ebc54"
      },
      "execution_count": 5,
      "outputs": [
        {
          "output_type": "stream",
          "name": "stdout",
          "text": [
            "0    25\n",
            "1    30\n",
            "2    35\n",
            "3    40\n",
            "Name: age, dtype: int64\n",
            "0    5000\n",
            "1    6000\n",
            "2    7000\n",
            "3    8000\n",
            "Name: bonus, dtype: int64\n"
          ]
        }
      ]
    },
    {
      "cell_type": "markdown",
      "source": [
        "4.2 Comparison Methods (__eq__, __lt__, __le__, __gt__, __ge__, __ne__)\n",
        "These methods define behavior for comparison operators."
      ],
      "metadata": {
        "id": "u4jPNDnb-Qju"
      }
    },
    {
      "cell_type": "code",
      "source": [
        "class DataScientist:\n",
        "    def __init__(self, name, expertise_level, salary):\n",
        "        self.name = name\n",
        "        self.expertise_level = expertise_level\n",
        "        self.salary = salary\n",
        "\n",
        "    def __eq__(self, other):\n",
        "        return self.salary == other.salary\n",
        "\n",
        "    def __lt__(self, other):\n",
        "        return self.salary < other.salary\n",
        "\n",
        "    def __le__(self, other):\n",
        "        return self.salary <= other.salary\n",
        "\n",
        "ds1 = DataScientist(\"Alice\", \"Senior\", 100000)\n",
        "ds2 = DataScientist(\"Bob\", \"Junior\", 80000)\n",
        "\n",
        "print(ds1 == ds2)  # __eq__\n",
        "print(ds1 < ds2)  # __lt__\n",
        "print(ds1 <= ds2)  # __le__"
      ],
      "metadata": {
        "colab": {
          "base_uri": "https://localhost:8080/"
        },
        "id": "26iIRrLk-VnY",
        "outputId": "069cd800-c377-4633-f2ea-3548c9de8a41"
      },
      "execution_count": 6,
      "outputs": [
        {
          "output_type": "stream",
          "name": "stdout",
          "text": [
            "False\n",
            "False\n",
            "False\n"
          ]
        }
      ]
    },
    {
      "cell_type": "markdown",
      "source": [
        "4.3 Arithmetic Methods (__add__, __sub__, __mul__, __truediv__)\n",
        "These methods define behavior for arithmetic operators."
      ],
      "metadata": {
        "id": "wk6YLX_c-cHv"
      }
    },
    {
      "cell_type": "code",
      "source": [
        "class DataScientist:\n",
        "    def __init__(self, name, salary):\n",
        "        self.name = name\n",
        "        self.salary = salary\n",
        "\n",
        "    def __add__(self, other):\n",
        "        return self.salary + other.salary\n",
        "\n",
        "    def __sub__(self, other):\n",
        "        return self.salary - other.salary\n",
        "\n",
        "ds1 = DataScientist(\"Alice\", 100000)\n",
        "ds2 = DataScientist(\"Bob\", 80000)\n",
        "\n",
        "print(ds1 + ds2)  # __add__\n",
        "print(ds1 - ds2)  # __sub__"
      ],
      "metadata": {
        "colab": {
          "base_uri": "https://localhost:8080/"
        },
        "id": "5riH0i93-gQ7",
        "outputId": "5ab22277-d33f-49e1-cc2a-5f12e4dd5a28"
      },
      "execution_count": 7,
      "outputs": [
        {
          "output_type": "stream",
          "name": "stdout",
          "text": [
            "180000\n",
            "20000\n"
          ]
        }
      ]
    },
    {
      "cell_type": "markdown",
      "source": [
        "4.4 __len__\n",
        "The __len__ method is used to define the behavior of the len() function for an object. It should return the number of items in the object."
      ],
      "metadata": {
        "id": "nkeVvy30-l6f"
      }
    },
    {
      "cell_type": "code",
      "source": [
        "class DataCollection:\n",
        "    def __init__(self, data):\n",
        "        self.data = data\n",
        "\n",
        "    def __len__(self):\n",
        "        return len(self.data)\n",
        "\n",
        "# Usage\n",
        "data = [25, 30, 35, 40, 45]\n",
        "collection = DataCollection(data)\n",
        "print(len(collection))  # __len__"
      ],
      "metadata": {
        "colab": {
          "base_uri": "https://localhost:8080/"
        },
        "id": "Jcx2fiCU-lPk",
        "outputId": "a8495551-90bd-4b1e-8319-654ce1a0852d"
      },
      "execution_count": 8,
      "outputs": [
        {
          "output_type": "stream",
          "name": "stdout",
          "text": [
            "5\n"
          ]
        }
      ]
    },
    {
      "cell_type": "markdown",
      "source": [
        "4.5 __class__\n",
        "The __class__ attribute returns the class of an instance."
      ],
      "metadata": {
        "id": "6YI9lQGU-t17"
      }
    },
    {
      "cell_type": "code",
      "source": [
        "ds = DataScientist(\"Alice\", \"Senior\")\n",
        "print(ds.__class__)"
      ],
      "metadata": {
        "colab": {
          "base_uri": "https://localhost:8080/"
        },
        "id": "Be11cItF--Yo",
        "outputId": "c621dc86-27d3-4473-d9d7-2d6dff7ba1a3"
      },
      "execution_count": 10,
      "outputs": [
        {
          "output_type": "stream",
          "name": "stdout",
          "text": [
            "<class '__main__.DataScientist'>\n"
          ]
        }
      ]
    },
    {
      "cell_type": "code",
      "source": [
        "print(ds.__dict__)"
      ],
      "metadata": {
        "colab": {
          "base_uri": "https://localhost:8080/"
        },
        "id": "ITJdTsFo_Kdd",
        "outputId": "bf9cade8-807d-4511-da0a-5b1c935bb92a"
      },
      "execution_count": 11,
      "outputs": [
        {
          "output_type": "stream",
          "name": "stdout",
          "text": [
            "{'name': 'Alice', 'salary': 'Senior'}\n"
          ]
        }
      ]
    },
    {
      "cell_type": "code",
      "source": [
        "\n",
        "print(DataScientist.__bases__)"
      ],
      "metadata": {
        "colab": {
          "base_uri": "https://localhost:8080/"
        },
        "id": "nq8NXkjJ_Pid",
        "outputId": "22ec3ff1-a914-4d8f-88de-f0dc3684cabe"
      },
      "execution_count": 12,
      "outputs": [
        {
          "output_type": "stream",
          "name": "stdout",
          "text": [
            "(<class 'object'>,)\n"
          ]
        }
      ]
    },
    {
      "cell_type": "markdown",
      "source": [
        "\n",
        "**5. Example: DataFrame Wrapper Class**\n",
        "Let's create a more comprehensive example by implementing a DataFrame wrapper class that uses various special methods.\n",
        "\n",
        "Step-by-Step Example"
      ],
      "metadata": {
        "id": "P2JTErL5_AG7"
      }
    },
    {
      "cell_type": "code",
      "source": [
        "import pandas as pd\n",
        "\n",
        "class DataFrameWrapper:\n",
        "    def __init__(self, data):\n",
        "        self._data = pd.DataFrame(data)\n",
        "\n",
        "    def __str__(self):\n",
        "        return f\"DataFrameWrapper with {len(self._data)} rows and {len(self._data.columns)} columns\"\n",
        "\n",
        "    def __repr__(self):\n",
        "        return f\"DataFrameWrapper(data={self._data.to_dict()})\"\n",
        "\n",
        "    def __getitem__(self, key):\n",
        "        return self._data[key]\n",
        "\n",
        "    def __setitem__(self, key, value):\n",
        "        self._data[key] = value\n",
        "\n",
        "    def __len__(self):\n",
        "        return len(self._data)\n",
        "\n",
        "# Usage\n",
        "data = {\n",
        "    'age': [25, 30, 35, 40],\n",
        "    'salary': [50000, 60000, 70000, 80000]\n",
        "}\n",
        "df_wrapper = DataFrameWrapper(data)\n",
        "\n",
        "# Using special methods\n",
        "print(str(df_wrapper))  # __str__\n",
        "print(repr(df_wrapper))  # __repr__\n",
        "print(df_wrapper['age'])  # __getitem__\n",
        "df_wrapper['salary'] = [52000, 62000, 72000, 82000]  # __setitem__\n",
        "print(len(df_wrapper))  # __len__\n",
        "print(df_wrapper.__class__)  # __class__\n",
        "print(df_wrapper.__dict__)  # __dict__\n",
        "print(DataFrameWrapper.__bases__)  # __bases__"
      ],
      "metadata": {
        "colab": {
          "base_uri": "https://localhost:8080/"
        },
        "id": "TKcJ80QL-w8c",
        "outputId": "bfc6f9b3-e770-4081-aff6-6bd1ac326ccf"
      },
      "execution_count": 9,
      "outputs": [
        {
          "output_type": "stream",
          "name": "stdout",
          "text": [
            "DataFrameWrapper with 4 rows and 2 columns\n",
            "DataFrameWrapper(data={'age': {0: 25, 1: 30, 2: 35, 3: 40}, 'salary': {0: 50000, 1: 60000, 2: 70000, 3: 80000}})\n",
            "0    25\n",
            "1    30\n",
            "2    35\n",
            "3    40\n",
            "Name: age, dtype: int64\n",
            "4\n",
            "<class '__main__.DataFrameWrapper'>\n",
            "{'_data':    age  salary\n",
            "0   25   52000\n",
            "1   30   62000\n",
            "2   35   72000\n",
            "3   40   82000}\n",
            "(<class 'object'>,)\n"
          ]
        }
      ]
    },
    {
      "cell_type": "markdown",
      "source": [
        "\n",
        "**1. Introduction to Inheritance**\n",
        "\n",
        "Inheritance is a fundamental concept in object-oriented programming that allows a class (subclass) to inherit attributes and methods from another class (superclass). This helps to promote code reuse and organize code into a hierarchical structure.\n",
        "\n",
        "Inheritance allows us to define a class that inherits all the methods and properties from another class.\n",
        "\n",
        "Parent class is the class being inherited from, also called base class.\n",
        "\n",
        "Child class is the class that inherits from another class, also called derived class.\n",
        "\n",
        "In this example, Dog and Cat inherit from the Animal class and override the speak() method."
      ],
      "metadata": {
        "id": "PrgZXgsTEH3N"
      }
    },
    {
      "cell_type": "code",
      "source": [
        "class Animal:\n",
        "    def __init__(self, name):\n",
        "        self.name = name\n",
        "\n",
        "    def speak(self):\n",
        "        raise NotImplementedError(\"Subclass must implement abstract method\")\n",
        "\n",
        "class Dog(Animal):\n",
        "    def speak(self):\n",
        "        return f\"{self.name} says Woof!\"\n",
        "\n",
        "class Cat(Animal):\n",
        "    def speak(self):\n",
        "        return f\"{self.name} says Meow!\"\n",
        "\n",
        "my_dog = Dog(\"Frank\")\n",
        "print(my_dog.speak())\n",
        "\n",
        "my_cat = Cat(\"Bob\")\n",
        "print(my_cat.speak())"
      ],
      "metadata": {
        "colab": {
          "base_uri": "https://localhost:8080/"
        },
        "id": "pwdcI-hW_VM6",
        "outputId": "301b14c0-227a-4623-cf2b-2d8a756ca9c1"
      },
      "execution_count": 13,
      "outputs": [
        {
          "output_type": "stream",
          "name": "stdout",
          "text": [
            "Frank says Woof!\n",
            "Bob says Meow!\n"
          ]
        }
      ]
    },
    {
      "cell_type": "markdown",
      "source": [
        "**2. Defining Subclasses**\n",
        "\n",
        "To define a subclass, use the following syntax:\n",
        "\n",
        "class SubclassName(SuperclassName):\n",
        "    # subclass body\n",
        "In this example, Car is a subclass of Vehicle and adds an additional attribute doors."
      ],
      "metadata": {
        "id": "kwuNYCBcFJIs"
      }
    },
    {
      "cell_type": "code",
      "source": [
        "class Vehicle:\n",
        "    def __init__(self, brand, model):\n",
        "        self.brand = brand\n",
        "        self.model = model\n",
        "\n",
        "    def info(self):\n",
        "        return f\"Vehicle: {self.brand} {self.model}\"\n",
        "\n",
        "class Car(Vehicle):\n",
        "    def __init__(self, brand, model, doors):\n",
        "        super().__init__(brand, model)\n",
        "        self.doors = doors\n",
        "\n",
        "my_new_car = Car(brand=\"Ferrari\", model=\"LaFerrari\", doors=2)\n",
        "my_new_car.info()"
      ],
      "metadata": {
        "colab": {
          "base_uri": "https://localhost:8080/",
          "height": 36
        },
        "id": "gTB7S-bkE0vj",
        "outputId": "5b9a9c66-6a64-4dc1-a32b-049e7dc70d2a"
      },
      "execution_count": 15,
      "outputs": [
        {
          "output_type": "execute_result",
          "data": {
            "text/plain": [
              "'Vehicle: Ferrari LaFerrari'"
            ],
            "application/vnd.google.colaboratory.intrinsic+json": {
              "type": "string"
            }
          },
          "metadata": {},
          "execution_count": 15
        }
      ]
    },
    {
      "cell_type": "markdown",
      "source": [
        "**3. Overriding Methods**\n",
        "\n",
        "A subclass can override methods of its superclass to provide specific implementations.\n",
        "\n",
        "In this example, the info() method is overridden in the Car class to provide more specific information."
      ],
      "metadata": {
        "id": "a4sGBdB_HJhj"
      }
    },
    {
      "cell_type": "code",
      "source": [
        "class Vehicle:\n",
        "    def __init__(self, brand, model):\n",
        "        self.brand = brand\n",
        "        self.model = model\n",
        "\n",
        "    def info(self):\n",
        "        return f\"Vehicle: {self.brand} {self.model}\"\n",
        "\n",
        "class Car(Vehicle):\n",
        "    def __init__(self, brand, model, doors):\n",
        "        super().__init__(brand, model)\n",
        "        self.doors = doors\n",
        "\n",
        "    def info(self):\n",
        "        return f\"Car: {self.brand} {self.model} with {self.doors} doors\"\n",
        "\n",
        "my_new_car = Car(brand=\"Ferrari\", model=\"LaFerrari\", doors=2)\n",
        "my_new_car.info()"
      ],
      "metadata": {
        "colab": {
          "base_uri": "https://localhost:8080/",
          "height": 36
        },
        "id": "F7PVW_T3HMOD",
        "outputId": "44c57e8b-3746-49a5-b785-a44603fe81e8"
      },
      "execution_count": 16,
      "outputs": [
        {
          "output_type": "execute_result",
          "data": {
            "text/plain": [
              "'Car: Ferrari LaFerrari with 2 doors'"
            ],
            "application/vnd.google.colaboratory.intrinsic+json": {
              "type": "string"
            }
          },
          "metadata": {},
          "execution_count": 16
        }
      ]
    },
    {
      "cell_type": "markdown",
      "source": [
        "**4. Using the super() Function**\n",
        "\n",
        "The super() function allows you to call methods from the superclass in the subclass. This is useful for extending or modifying the behavior of inherited methods.\n",
        "\n",
        "In this example, super().info() is used to call the info() method from the Vehicle class, and additional information is appended in the Car class."
      ],
      "metadata": {
        "id": "A-O9rd05Ht1K"
      }
    },
    {
      "cell_type": "code",
      "source": [
        "class Vehicle:\n",
        "    def __init__(self, brand, model):\n",
        "        self.brand = brand\n",
        "        self.model = model\n",
        "\n",
        "    def info(self):\n",
        "        return f\"Vehicle: {self.brand} {self.model}\"\n",
        "\n",
        "class Car(Vehicle):\n",
        "    def __init__(self, brand, model, doors):\n",
        "        super().__init__(brand, model)\n",
        "        self.doors = doors\n",
        "\n",
        "    def info(self):\n",
        "        return super().info() + f\" with {self.doors} doors\"\n",
        "\n",
        "my_new_car = Car(brand=\"Ferrari\", model=\"LaFerrari\", doors=2)\n",
        "my_new_car.info()"
      ],
      "metadata": {
        "colab": {
          "base_uri": "https://localhost:8080/",
          "height": 36
        },
        "id": "QmIKPezGHxHX",
        "outputId": "219da010-3942-43b3-aad9-0bb1d2bb805b"
      },
      "execution_count": 18,
      "outputs": [
        {
          "output_type": "execute_result",
          "data": {
            "text/plain": [
              "'Vehicle: Ferrari LaFerrari with 2 doors'"
            ],
            "application/vnd.google.colaboratory.intrinsic+json": {
              "type": "string"
            }
          },
          "metadata": {},
          "execution_count": 18
        }
      ]
    },
    {
      "cell_type": "code",
      "source": [],
      "metadata": {
        "id": "9msVWbFFIaRy"
      },
      "execution_count": null,
      "outputs": []
    },
    {
      "cell_type": "markdown",
      "source": [
        "**Exercise: Extending a Data Analysis Class**\n",
        "\n",
        "In this exercise, you will extend the DataAnalysis class with the StatisticalAnalysis class that includes additional statistical methods. The StatisticalAnalysis class should include the following methods:\n",
        "\n",
        "mode(self, column): Returns the mode of a specified column.\n",
        "range(self, column): Returns the range (difference between max and min) of a specified column.\n",
        "interquartile_range(self, column): Returns the interquartile range (IQR) of a specified column."
      ],
      "metadata": {
        "id": "Y-ROGdW2Ib39"
      }
    },
    {
      "cell_type": "code",
      "source": [
        "# prompt: Exercise: Extending a Data Analysis Class\n",
        "# In this exercise, you will extend the DataAnalysis class with the StatisticalAnalysis class that includes additional statistical methods. The StatisticalAnalysis class should include the following methods:\n",
        "# mode(self, column): Returns the mode of a specified column.\n",
        "# range(self, column): Returns the range (difference between max and min) of a specified colu\n",
        "\n",
        "class DataAnalysis:\n",
        "    def __init__(self, df):\n",
        "        self.df = df\n",
        "\n",
        "    def get_summary(self):\n",
        "        return self.df.describe()\n",
        "\n",
        "    def get_missing_values(self):\n",
        "        return self.df.isnull().sum()\n",
        "\n",
        "    def get_column_types(self):\n",
        "        return self.df.dtypes\n",
        "\n",
        "\n",
        "class StatisticalAnalysis(DataAnalysis):\n",
        "    def mode(self, column):\n",
        "        return self.df[column].mode()[0]\n",
        "\n",
        "    def range_column(self, column):\n",
        "        return self.df[column].max() - self.df[column].min()\n",
        "\n",
        "    def interquartile_range(self, column):\n",
        "        return self.df[column].quantile(0.75) - self.df[column].quantile(0.25)\n",
        "\n",
        "\n",
        "# Example usage:\n",
        "data = {'age': [25, 30, 35, 40, 30],\n",
        "        'salary': [50000, 60000, 70000, 80000, 60000]}\n",
        "df = pd.DataFrame(data)\n",
        "\n",
        "analyzer = StatisticalAnalysis(df)\n",
        "print(analyzer.get_summary())\n",
        "print(analyzer.mode('age'))\n",
        "print(analyzer.range_column('salary'))\n",
        "print(analyzer.interquartile_range('age'))\n",
        "\n"
      ],
      "metadata": {
        "id": "oUyRZzkcIelH"
      },
      "execution_count": null,
      "outputs": []
    },
    {
      "cell_type": "code",
      "source": [
        "import pandas as pd\n",
        "\n",
        "class DataAnalysis:\n",
        "\n",
        "    def __init__(self, data): #his is the constructor of the class. It's automatically called when you create a new object of the DataAnalysis class.\n",
        "\n",
        "        self.data = data #This line stores the input data (which could be a dictionary, list, etc.) as an attribute of the object.\n",
        "        self._df = pd.DataFrame(data) # This line converts the input data into a pandas DataFrame and stores it as an attribute named _df. The underscore (_) prefix typically indicates that this attribute is intended to be used internally within the class.\n",
        "\n",
        "    def summary(self):\n",
        "\n",
        "        return f\"Dataset with {len(self._df)} rows and {len(self._df.columns)} columns\"\n",
        "\n",
        "    def mean(self, column):\n",
        "\n",
        "        return self._df[column].mean()\n",
        "\n",
        "    def median(self, column):\n",
        "\n",
        "        return self._df[column].median()"
      ],
      "metadata": {
        "id": "hJXzvmcFIfst"
      },
      "execution_count": 24,
      "outputs": []
    },
    {
      "cell_type": "code",
      "source": [
        "class StatisticalAnalysis(DataAnalysis):\n",
        "\n",
        "\n",
        "   def __init__(self, data):\n",
        "\n",
        "       super().__init__(data)\n",
        "\n",
        "   def mode(self, column):\n",
        "\n",
        "       return self._df[column].mode().tolist()\n",
        "\n",
        "   def range(self, column):\n",
        "\n",
        "       return self._df[column].max() - self._df[column].min()\n",
        "\n",
        "   def interquartile_range(self, column):\n",
        "\n",
        "       q1 = self._df[column].quantile(0.25)\n",
        "       q3 = self._df[column].quantile(0.75)\n",
        "       return q3 - q1"
      ],
      "metadata": {
        "id": "lsallUHGJrrp"
      },
      "execution_count": 22,
      "outputs": []
    },
    {
      "cell_type": "code",
      "source": [
        "# Test your implementation with the example usage provided\n",
        "data = {\n",
        "    'age': [25, 30, 35, 40, 45, 30, 35],\n",
        "    'salary': [50000, 60000, 70000, 80000, 90000, 60000, 70000]\n",
        "    }\n",
        "stat_analysis = StatisticalAnalysis(data)\n",
        "\n",
        "print(stat_analysis.mode('age'))\n",
        "print(stat_analysis.range('salary'))\n",
        "print(stat_analysis.interquartile_range('age'))\n",
        "print(stat_analysis.summary())"
      ],
      "metadata": {
        "colab": {
          "base_uri": "https://localhost:8080/"
        },
        "id": "kXsv00pXKaes",
        "outputId": "c27fd494-976d-4121-aad5-f6b59f713238"
      },
      "execution_count": 23,
      "outputs": [
        {
          "output_type": "stream",
          "name": "stdout",
          "text": [
            "[30, 35]\n",
            "40000\n",
            "7.5\n",
            "Dataset with 7 rows and 2 columns\n"
          ]
        }
      ]
    },
    {
      "cell_type": "markdown",
      "source": [
        "**Introduction to Abstraction**\n",
        "\n",
        "Abstraction is the process of hiding the complex implementation details and showing only the essential features of an object. It helps to reduce complexity and allows the programmer to focus on interactions at a higher level.\n",
        "\n",
        "In data science, a common abstraction might be a DataProcessor class that abstracts away the details of reading, cleaning, and transforming data, providing simple methods to perform these tasks."
      ],
      "metadata": {
        "id": "oyF4FzmCNnqg"
      }
    },
    {
      "cell_type": "markdown",
      "source": [
        "**2. Abstraction in Python**\n",
        "\n",
        "To implement abstraction in Python, we can use abstract classes and methods provided by the abc module.\n",
        "\n",
        "In this example, DataProcessor is an abstract class with abstract methods read_data and process_data. The CSVDataProcessor class provides concrete implementations of these methods."
      ],
      "metadata": {
        "id": "xcViTg0UNwDc"
      }
    },
    {
      "cell_type": "code",
      "source": [],
      "metadata": {
        "id": "WwxldWidff_M"
      },
      "execution_count": null,
      "outputs": []
    },
    {
      "cell_type": "markdown",
      "source": [
        "**. Introduction to Polymorphism**\n",
        "\n",
        "Polymorphism is a concept in object-oriented programming that allows methods to be used in different ways based on the object it is acting upon. It enables objects of different classes to be treated as objects of a common superclass, making code more flexible and reusable.\n",
        "\n",
        "In simple terms: Polymorphism describes a pattern in object oriented programming in which classes have different functionality while sharing a common interface.\n",
        "\n",
        "In this example, both Dog and Cat classes have the speak method. The make_animal_speak function can handle any object that has a speak method, demonstrating polymorphism."
      ],
      "metadata": {
        "id": "hRzNDxaofgSc"
      }
    },
    {
      "cell_type": "code",
      "source": [
        "class Dog:\n",
        "    def speak(self):\n",
        "        return \"Woof!\"\n",
        "\n",
        "class Cat:\n",
        "    def speak(self):\n",
        "        return \"Meow!\"\n",
        "\n",
        "def make_animal_speak(animal):\n",
        "    print(animal.speak())\n",
        "\n",
        "dog = Dog()\n",
        "cat = Cat()\n",
        "\n",
        "for animal in (dog, cat):\n",
        "    make_animal_speak(animal)"
      ],
      "metadata": {
        "colab": {
          "base_uri": "https://localhost:8080/"
        },
        "id": "bCPmtvcyfkte",
        "outputId": "470676ef-21b2-40b1-d060-2b295d247246"
      },
      "execution_count": 25,
      "outputs": [
        {
          "output_type": "stream",
          "name": "stdout",
          "text": [
            "Woof!\n",
            "Meow!\n"
          ]
        }
      ]
    },
    {
      "cell_type": "markdown",
      "source": [
        "\n",
        "**2. Polymorphism with Inheritance**\n",
        "\n",
        "Polymorphism often works hand-in-hand with inheritance. When a subclass overrides a method from its superclass, we can use objects of the subclass interchangeably with objects of the superclass.\n",
        "\n",
        "In this example, both Circle and Rectangle classes inherit from the Shape class and override the area method. The print_area function can handle any object that has an area method, demonstrating polymorphism."
      ],
      "metadata": {
        "id": "7p8IzEy9f-My"
      }
    },
    {
      "cell_type": "code",
      "source": [
        "class Shape:\n",
        "    def area(self):\n",
        "        pass\n",
        "\n",
        "class Circle(Shape):\n",
        "    def __init__(self, radius):\n",
        "        self.radius = radius\n",
        "\n",
        "    def area(self):\n",
        "        return 3.14 * (self.radius ** 2)\n",
        "\n",
        "class Rectangle(Shape):\n",
        "    def __init__(self, width, height):\n",
        "        self.width = width\n",
        "        self.height = height\n",
        "\n",
        "    def area(self):\n",
        "        return self.width * self.height\n",
        "\n",
        "def print_area(shape):\n",
        "    print(f\"The area is {shape.area()}\")\n",
        "\n",
        "circle = Circle(5)\n",
        "rectangle = Rectangle(4, 6)\n",
        "\n",
        "print_area(circle)      # The area is 78.5\n",
        "print_area(rectangle)   # The area is 24"
      ],
      "metadata": {
        "colab": {
          "base_uri": "https://localhost:8080/"
        },
        "id": "YRle1147gDq_",
        "outputId": "05d3732c-5fca-4f70-fd3f-f77f94740ba8"
      },
      "execution_count": 26,
      "outputs": [
        {
          "output_type": "stream",
          "name": "stdout",
          "text": [
            "The area is 78.5\n",
            "The area is 24\n"
          ]
        }
      ]
    },
    {
      "cell_type": "markdown",
      "source": [
        "**3. Polymorphism with Functions**\n",
        "\n",
        "Polymorphism can also be achieved with functions that take parameters of different types. This allows the same function to operate on different types of objects.\n",
        "\n",
        "In this example, the add function can handle integers, strings, and lists, demonstrating polymorphism with functions."
      ],
      "metadata": {
        "id": "Yzmzpk_bgOc0"
      }
    },
    {
      "cell_type": "code",
      "source": [
        "def add(x, y):\n",
        "    return x + y\n",
        "\n",
        "print(add(5, 10))           # 15 (int)\n",
        "print(add(\"Hello \", \"World\"))  # Hello World (str)\n",
        "print(add([1, 2], [3, 4]))  # [1, 2, 3, 4] (list)"
      ],
      "metadata": {
        "colab": {
          "base_uri": "https://localhost:8080/"
        },
        "id": "Su67PafHgVh4",
        "outputId": "c0d398f5-698c-460a-aebf-29e0dca305ca"
      },
      "execution_count": 27,
      "outputs": [
        {
          "output_type": "stream",
          "name": "stdout",
          "text": [
            "15\n",
            "Hello World\n",
            "[1, 2, 3, 4]\n"
          ]
        }
      ]
    },
    {
      "cell_type": "markdown",
      "source": [
        "**4. Polymorphism with Abstract Classes**\n",
        "\n",
        "Abstract classes provide a common interface for subclasses. Methods in abstract classes are meant to be overridden in subclasses, and the subclasses are expected to implement these methods.\n",
        "\n",
        "In this example, the Animal class is an abstract class with an abstract method speak. The Dog and Cat classes inherit from Animal and implement the speak method."
      ],
      "metadata": {
        "id": "tpJCMEQEg3Vd"
      }
    },
    {
      "cell_type": "code",
      "source": [
        "from abc import ABC, abstractmethod\n",
        "\n",
        "class Animal(ABC):\n",
        "    @abstractmethod\n",
        "    def speak(self):\n",
        "        pass\n",
        "\n",
        "class Dog(Animal):\n",
        "    def speak(self):\n",
        "        return \"Woof!\"\n",
        "\n",
        "class Cat(Animal):\n",
        "    def speak(self):\n",
        "        return \"Meow!\"\n",
        "\n",
        "def make_animal_speak(animal):\n",
        "    print(animal.speak())\n",
        "\n",
        "dog = Dog()\n",
        "cat = Cat()\n",
        "\n",
        "make_animal_speak(dog)  # Woof!\n",
        "make_animal_speak(cat)  # Meow!"
      ],
      "metadata": {
        "colab": {
          "base_uri": "https://localhost:8080/"
        },
        "id": "1w5kU-X3g6B_",
        "outputId": "668d91cc-037a-456a-813e-f0071cc6f896"
      },
      "execution_count": 28,
      "outputs": [
        {
          "output_type": "stream",
          "name": "stdout",
          "text": [
            "Woof!\n",
            "Meow!\n"
          ]
        }
      ]
    },
    {
      "cell_type": "markdown",
      "source": [
        "**5. Step-by-Step Example**\n",
        "\n",
        "Let's create a comprehensive example by implementing a class hierarchy for different types of plots in data visualization.\n",
        "\n",
        "Step-by-Step Example\n",
        "In this example, we have a base class Plot and three subclasses: LinePlot, ScatterPlot, and BarPlot. Each subclass implements the draw method, and the display_plot function demonstrates polymorphism by accepting any Plot object."
      ],
      "metadata": {
        "id": "m3AS9oQghbmo"
      }
    },
    {
      "cell_type": "code",
      "source": [
        "import matplotlib.pyplot as plt\n",
        "import numpy as np\n",
        "\n",
        "class Plot:\n",
        "    \"\"\"\n",
        "    A base class for different types of plots.\n",
        "    \"\"\"\n",
        "    def draw(self):\n",
        "        raise NotImplementedError(\"Subclass must implement abstract method\")\n",
        "\n",
        "class LinePlot(Plot):\n",
        "    def __init__(self, x, y):\n",
        "        self.x = x\n",
        "        self.y = y\n",
        "\n",
        "    def draw(self):\n",
        "        plt.plot(self.x, self.y)\n",
        "        plt.title('Line Plot')\n",
        "        plt.show()\n",
        "\n",
        "class ScatterPlot(Plot):\n",
        "    def __init__(self, x, y):\n",
        "        self.x = x\n",
        "        self.y = y\n",
        "\n",
        "    def draw(self):\n",
        "        plt.scatter(self.x, self.y)\n",
        "        plt.title('Scatter Plot')\n",
        "        plt.show()\n",
        "\n",
        "class BarPlot(Plot):\n",
        "    def __init__(self, categories, values):\n",
        "        self.categories = categories\n",
        "        self.values = values\n",
        "\n",
        "    def draw(self):\n",
        "        plt.bar(self.categories, self.values)\n",
        "        plt.title('Bar Plot')\n",
        "        plt.show()\n",
        "\n",
        "def display_plot(plot):\n",
        "    plot.draw()\n",
        "\n",
        "# Usage\n",
        "x = np.linspace(0, 10, 100)\n",
        "y = np.sin(x)\n",
        "categories = ['A', 'B', 'C']\n",
        "values = [5, 7, 3]\n",
        "\n",
        "line_plot = LinePlot(x, y)\n",
        "scatter_plot = ScatterPlot(x, y)\n",
        "bar_plot = BarPlot(categories, values)\n",
        "\n",
        "display_plot(line_plot)    # Displays Line Plot\n",
        "display_plot(scatter_plot) # Displays Scatter Plot\n",
        "display_plot(bar_plot)     # Displays Bar Plot"
      ],
      "metadata": {
        "colab": {
          "base_uri": "https://localhost:8080/",
          "height": 1000
        },
        "id": "4LueiOzfhecM",
        "outputId": "cf2b8a1a-8ab1-41f4-8eb4-ff5af05ca9e6"
      },
      "execution_count": 29,
      "outputs": [
        {
          "output_type": "display_data",
          "data": {
            "text/plain": [
              "<Figure size 640x480 with 1 Axes>"
            ],
            "image/png": "[encoded data removed]"
          },
          "metadata": {}
        },
        {
          "output_type": "display_data",
          "data": {
            "text/plain": [
              "<Figure size 640x480 with 1 Axes>"
            ],
            "image/png": "[encoded data removed]"
          },
          "metadata": {}
        },
        {
          "output_type": "display_data",
          "data": {
            "text/plain": [
              "<Figure size 640x480 with 1 Axes>"
            ],
            "image/png": "[encoded data removed]"
          },
          "metadata": {}
        }
      ]
    },
    {
      "cell_type": "markdown",
      "source": [
        "**1. Instance Attributes and Methods**\n",
        "\n",
        "Instance attributes and methods belong to individual instances of a class. Each object of the class has its own copy of instance attributes, and instance methods can access and modify these attributes.\n",
        "\n",
        "Example\n",
        "In this example, name is an instance attribute, and bark is an instance method."
      ],
      "metadata": {
        "id": "o1VaoeFFkuah"
      }
    },
    {
      "cell_type": "code",
      "source": [
        "class Dog:\n",
        "    def __init__(self, name):\n",
        "        self.name = name  # Instance attribute\n",
        "\n",
        "    def bark(self):\n",
        "        return f\"{self.name} says Woof!\"  # Instance method\n",
        "\n",
        "dog1 = Dog(\"Buddy\")\n",
        "dog2 = Dog(\"Rex\")\n",
        "\n",
        "print(dog1.bark())  # Buddy says Woof!\n",
        "print(dog2.bark())  # Rex says Woof!"
      ],
      "metadata": {
        "colab": {
          "base_uri": "https://localhost:8080/"
        },
        "id": "u0dqQ76nkwe9",
        "outputId": "6a7d7f7f-7603-42d2-94f5-2f90ed53f929"
      },
      "execution_count": 30,
      "outputs": [
        {
          "output_type": "stream",
          "name": "stdout",
          "text": [
            "Buddy says Woof!\n",
            "Rex says Woof!\n"
          ]
        }
      ]
    },
    {
      "cell_type": "markdown",
      "source": [
        "\n",
        "2. **Class Attributes and Methods**\n",
        "Class attributes and methods are shared among all instances of a class. Class attributes are defined within the class but outside any instance methods. Class methods are defined using the @classmethod decorator and take cls as the first parameter.\n",
        "\n",
        "Example\n",
        "In this example, species is a class attribute, and get_species is a class method."
      ],
      "metadata": {
        "id": "wH9hBItlk6Lw"
      }
    },
    {
      "cell_type": "code",
      "source": [
        "class Dog:\n",
        "    species = \"Canis lupus familiaris\"  # Class attribute\n",
        "\n",
        "    def __init__(self, name):\n",
        "        self.name = name  # Instance attribute\n",
        "\n",
        "    @classmethod\n",
        "    def get_species(cls):\n",
        "        return cls.species  # Class method\n",
        "\n",
        "dog1 = Dog(\"Buddy\")\n",
        "dog2 = Dog(\"Rex\")\n",
        "\n",
        "print(Dog.get_species())  # Canis lupus familiaris\n",
        "print(dog1.get_species())  # Canis lupus familiaris\n",
        "print(dog2.get_species())  # Canis lupus familiaris"
      ],
      "metadata": {
        "colab": {
          "base_uri": "https://localhost:8080/"
        },
        "id": "BLc04GRVk-D4",
        "outputId": "f573e03f-5215-4cbf-d922-59f1fd39e89c"
      },
      "execution_count": 31,
      "outputs": [
        {
          "output_type": "stream",
          "name": "stdout",
          "text": [
            "Canis lupus familiaris\n",
            "Canis lupus familiaris\n",
            "Canis lupus familiaris\n"
          ]
        }
      ]
    },
    {
      "cell_type": "markdown",
      "source": [
        "3. **Static Methods**\n",
        "\n",
        "Static methods are defined using the @staticmethod decorator and do not take self or cls as the first parameter. They are not bound to instances or the class and do not modify class or instance state.\n",
        "\n",
        "Example\n",
        "In this example, add and multiply are static methods."
      ],
      "metadata": {
        "id": "dQHor4sTlBo-"
      }
    },
    {
      "cell_type": "code",
      "source": [
        "class MathOperations:\n",
        "    @staticmethod\n",
        "    def add(x, y):\n",
        "        return x + y  # Static method\n",
        "\n",
        "    @staticmethod\n",
        "    def multiply(x, y):\n",
        "        return x * y  # Static method\n",
        "\n",
        "print(MathOperations.add(5, 3))  # 8\n",
        "print(MathOperations.multiply(5, 3))  # 15"
      ],
      "metadata": {
        "colab": {
          "base_uri": "https://localhost:8080/"
        },
        "id": "2MYJ7NSUhtTV",
        "outputId": "ba82b3c5-2ea6-4bcd-a5d2-74440ae23e3c"
      },
      "execution_count": 32,
      "outputs": [
        {
          "output_type": "stream",
          "name": "stdout",
          "text": [
            "8\n",
            "15\n"
          ]
        }
      ]
    },
    {
      "cell_type": "markdown",
      "source": [
        "\n",
        "4.**Comparing Instance, Class, and Static Methods**\n",
        "\n",
        "Here's a summary of the differences between instance, class, and static methods:\n",
        "\n",
        "Instance Methods: Access and modify instance attributes. Defined with def and take self as the first parameter.\n",
        "Class Methods: Access and modify class attributes. Defined with @classmethod and take cls as the first parameter.\n",
        "Static Methods: Do not access or modify class or instance attributes. Defined with @staticmethod and do not take self or cls as the first parameter.\n",
        "Example"
      ],
      "metadata": {
        "id": "5KVSVOP3lOKh"
      }
    },
    {
      "cell_type": "code",
      "source": [
        "class Example:\n",
        "    class_attr = \"I am a class attribute\"\n",
        "\n",
        "    def __init__(self, instance_attr):\n",
        "        self.instance_attr = instance_attr  # Instance attribute\n",
        "\n",
        "    def instance_method(self):\n",
        "        return f\"Instance method accessed: {self.instance_attr}\"\n",
        "\n",
        "    @classmethod\n",
        "    def class_method(cls):\n",
        "        return f\"Class method accessed: {cls.class_attr}\"\n",
        "\n",
        "    @staticmethod\n",
        "    def static_method():\n",
        "        return \"Static method accessed\"\n",
        "\n",
        "example = Example(\"I am an instance attribute\")\n",
        "\n",
        "print(example.instance_method())  # Instance method accessed: I am an instance attribute\n",
        "print(Example.class_method())     # Class method accessed: I am a class attribute\n",
        "print(Example.static_method())    # Static method accessed"
      ],
      "metadata": {
        "colab": {
          "base_uri": "https://localhost:8080/"
        },
        "id": "_nXiVpL3lW_x",
        "outputId": "e4a68841-7ef7-43b5-87a9-2f5efcf4a6af"
      },
      "execution_count": 33,
      "outputs": [
        {
          "output_type": "stream",
          "name": "stdout",
          "text": [
            "Instance method accessed: I am an instance attribute\n",
            "Class method accessed: I am a class attribute\n",
            "Static method accessed\n"
          ]
        }
      ]
    },
    {
      "cell_type": "markdown",
      "source": [
        "**Step-by-Step Example**\n",
        "\n",
        "In this example, we have a class DataProcessor with an instance attribute data, class attribute data_source, instance method summary, class methods set_data_source and get_data_source, and static method clean_data."
      ],
      "metadata": {
        "id": "k7-i2lEslnUr"
      }
    },
    {
      "cell_type": "code",
      "source": [
        "import pandas as pd\n",
        "\n",
        "class DataProcessor:\n",
        "    \"\"\"\n",
        "    A class for processing data with instance, class, and static methods.\n",
        "    \"\"\"\n",
        "    data_source = \"Default Data Source\"  # Class attribute\n",
        "\n",
        "    def __init__(self, data):\n",
        "        self.data = data  # Instance attribute\n",
        "\n",
        "    def summary(self):\n",
        "        \"\"\"\n",
        "        Instance method to return a summary of the dataset.\n",
        "        \"\"\"\n",
        "        return self.data.describe()\n",
        "\n",
        "    @classmethod\n",
        "    def set_data_source(cls, source):\n",
        "        \"\"\"\n",
        "        Class method to set the data source.\n",
        "        \"\"\"\n",
        "        cls.data_source = source\n",
        "\n",
        "    @classmethod\n",
        "    def get_data_source(cls):\n",
        "        \"\"\"\n",
        "        Class method to get the data source.\n",
        "        \"\"\"\n",
        "        return cls.data_source\n",
        "\n",
        "    @staticmethod\n",
        "    def clean_data(data):\n",
        "        \"\"\"\n",
        "        Static method to clean the data.\n",
        "        \"\"\"\n",
        "        return data.dropna()\n",
        "\n",
        "# Usage\n",
        "data = pd.DataFrame({\n",
        "    'age': [25, 30, 35, 40, None],\n",
        "    'salary': [50000, 60000, 70000, 80000, 90000]\n",
        "})\n",
        "\n",
        "processor = DataProcessor(data)\n",
        "\n",
        "# Instance method\n",
        "print(processor.summary())\n",
        "\n",
        "# Class methods\n",
        "print(DataProcessor.get_data_source())\n",
        "DataProcessor.set_data_source(\"New Data Source\")\n",
        "print(DataProcessor.get_data_source())\n",
        "\n",
        "# Static method\n",
        "cleaned_data = DataProcessor.clean_data(data)\n",
        "print(cleaned_data)"
      ],
      "metadata": {
        "colab": {
          "base_uri": "https://localhost:8080/"
        },
        "id": "JKvro6AjlpbT",
        "outputId": "5f883867-f2b1-47c9-a70c-d7b563a2b15c"
      },
      "execution_count": 34,
      "outputs": [
        {
          "output_type": "stream",
          "name": "stdout",
          "text": [
            "             age        salary\n",
            "count   4.000000      5.000000\n",
            "mean   32.500000  70000.000000\n",
            "std     6.454972  15811.388301\n",
            "min    25.000000  50000.000000\n",
            "25%    28.750000  60000.000000\n",
            "50%    32.500000  70000.000000\n",
            "75%    36.250000  80000.000000\n",
            "max    40.000000  90000.000000\n",
            "Default Data Source\n",
            "New Data Source\n",
            "    age  salary\n",
            "0  25.0   50000\n",
            "1  30.0   60000\n",
            "2  35.0   70000\n",
            "3  40.0   80000\n"
          ]
        }
      ]
    },
    {
      "cell_type": "code",
      "source": [],
      "metadata": {
        "id": "cW_5rbwDmYZ6"
      },
      "execution_count": null,
      "outputs": []
    },
    {
      "cell_type": "markdown",
      "source": [
        "**Project Folder Structure**\n",
        "\n",
        "In this notebook, we'll explore a well-organized project folder structure that is adapted from the Cookiecutter Data Science project by Driven Data. This structure is designed to facilitate collaboration, reproducibility, and efficient project management in data science. We will provide an overview of each directory and file in the structure, explain its purpose, and demonstrate how to set it up for your projects."
      ],
      "metadata": {
        "id": "cbL19xjgmROs"
      }
    },
    {
      "cell_type": "code",
      "source": [
        "import os\n",
        "\n",
        "def create_folder_structure(base_path):\n",
        "    folders = [\n",
        "        \"data/external\", \"data/interim\", \"data/processed\", \"data/raw\",\n",
        "        \"envs\",\n",
        "        \"docs\",\n",
        "        \"models\",\n",
        "        \"notebooks\",\n",
        "        \"references\",\n",
        "        \"reports/figures\",\n",
        "        \"src\",\n",
        "        \"src/modeling\"\n",
        "    ]\n",
        "\n",
        "    for folder in folders:\n",
        "        os.makedirs(os.path.join(base_path, folder), exist_ok=True)\n",
        "\n",
        "    files = [\"LICENSE\", \"Makefile\", \"README.md\",\n",
        "             \"envs/.dev_env\", \"envs/.prod_env\", \"envs/.dev2_env\",\n",
        "             \"envs/dev_req.txt\", \"envs/prod_req.txt\", \"envs/dev2_req.txt\",\n",
        "             \"src/__init__.py\", \"src/config.py\", \"src/dataset.py\",\n",
        "             \"src/features.py\", \"src/modeling/__init__.py\",\n",
        "             \"src/modeling/predict.py\", \"src/modeling/train.py\",\n",
        "             \"src/plots.py\"]\n",
        "\n",
        "    for file in files:\n",
        "        open(os.path.join(base_path, file), 'a').close()\n",
        "\n",
        "# Create the folder structure\n",
        "base_path = \"project\"\n",
        "create_folder_structure(base_path)\n",
        ""
      ],
      "metadata": {
        "id": "1zHOizr-l3T-"
      },
      "execution_count": 35,
      "outputs": []
    },
    {
      "cell_type": "code",
      "source": [
        "# prompt: GENERATE CODE TO PRINT  FOLDER\n",
        "\n",
        "import os\n",
        "\n",
        "def print_folder_structure(base_path, indent=0):\n",
        "    \"\"\"Prints the folder structure recursively with indentation.\"\"\"\n",
        "    for item in os.listdir(base_path):\n",
        "        item_path = os.path.join(base_path, item)\n",
        "        print(\"  \" * indent + item)\n",
        "        if os.path.isdir(item_path):\n",
        "            print_folder_structure(item_path, indent + 1)\n",
        "\n",
        "# Specify the base path of your project\n",
        "base_path = \"project\"\n",
        "\n",
        "# Print the folder structure\n",
        "print_folder_structure(base_path)\n"
      ],
      "metadata": {
        "colab": {
          "base_uri": "https://localhost:8080/"
        },
        "id": "bRESmtlumEKm",
        "outputId": "47332de0-512c-4d06-ad33-2ce4512635d6"
      },
      "execution_count": 40,
      "outputs": [
        {
          "output_type": "stream",
          "name": "stdout",
          "text": [
            "notebooks\n",
            "envs\n",
            "  .dev_env\n",
            "  dev2_req.txt\n",
            "  dev_req.txt\n",
            "  .prod_env\n",
            "  .dev2_env\n",
            "  prod_req.txt\n",
            "reports\n",
            "  figures\n",
            "README.md\n",
            "LICENSE\n",
            "src\n",
            "  __init__.py\n",
            "  plots.py\n",
            "  features.py\n",
            "  dataset.py\n",
            "  config.py\n",
            "  modeling\n",
            "    predict.py\n",
            "    __init__.py\n",
            "    train.py\n",
            "data\n",
            "  processed\n",
            "  interim\n",
            "  raw\n",
            "  external\n",
            "models\n",
            "Makefile\n",
            "references\n",
            "docs\n"
          ]
        }
      ]
    },
    {
      "cell_type": "markdown",
      "source": [
        "**2. Example Folder Structure**\n",
        "\n",
        "Let's create an example folder structure for a data science project using this layout."
      ],
      "metadata": {
        "id": "nzBRFOqCm4x2"
      }
    },
    {
      "cell_type": "code",
      "source": [
        "import os\n",
        "\n",
        "def create_folder_structure(base_path):\n",
        "    folders = [\n",
        "        \"data/external\", \"data/interim\", \"data/processed\", \"data/raw\",\n",
        "        \"envs\",\n",
        "        \"docs\",\n",
        "        \"models\",\n",
        "        \"notebooks\",\n",
        "        \"references\",\n",
        "        \"reports/figures\",\n",
        "        \"src\",\n",
        "        \"src/modeling\"\n",
        "    ]\n",
        "\n",
        "    for folder in folders:\n",
        "        os.makedirs(os.path.join(base_path, folder), exist_ok=True)\n",
        "\n",
        "    files = [\"LICENSE\", \"Makefile\", \"README.md\",\n",
        "             \"envs/.dev_env\", \"envs/.prod_env\", \"envs/.dev2_env\",\n",
        "             \"envs/dev_req.txt\", \"envs/prod_req.txt\", \"envs/dev2_req.txt\",\n",
        "             \"src/__init__.py\", \"src/config.py\", \"src/dataset.py\",\n",
        "             \"src/features.py\", \"src/modeling/__init__.py\",\n",
        "             \"src/modeling/predict.py\", \"src/modeling/train.py\",\n",
        "             \"src/plots.py\"]\n",
        "\n",
        "    for file in files:\n",
        "        open(os.path.join(base_path, file), 'a').close()\n",
        "\n",
        "# Create the folder structure\n",
        "base_path = \"project\"\n",
        "create_folder_structure(base_path)\n",
        ""
      ],
      "metadata": {
        "id": "_3Cic_b7m7X_"
      },
      "execution_count": 37,
      "outputs": []
    }
  ],
  "metadata": {
    "kernelspec": {
      "display_name": "Python 3",
      "language": "python",
      "name": "python3"
    },
    "language_info": {
      "codemirror_mode": {
        "name": "ipython",
        "version": 3
      },
      "file_extension": ".py",
      "mimetype": "text/x-python",
      "name": "python",
      "nbconvert_exporter": "python",
      "pygments_lexer": "ipython3",
      "version": "3.11.4"
    },
    "colab": {
      "provenance": [],
      "include_colab_link": true
    }
  },
  "nbformat": 4,
  "nbformat_minor": 0
}