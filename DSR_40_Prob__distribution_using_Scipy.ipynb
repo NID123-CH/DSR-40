{
  "nbformat": 4,
  "nbformat_minor": 0,
  "metadata": {
    "colab": {
      "provenance": [],
      "authorship_tag": "ABX9TyOwLhtRz99QxpQuUQUmyMWA",
      "include_colab_link": true
    },
    "kernelspec": {
      "name": "python3",
      "display_name": "Python 3"
    },
    "language_info": {
      "name": "python"
    }
  },
  "cells": [
    {
      "cell_type": "markdown",
      "metadata": {
        "id": "view-in-github",
        "colab_type": "text"
      },
      "source": [
        "<a href=\"https://colab.research.google.com/github/NID123-CH/DSR-40/blob/main/DSR_40_Prob__distribution_using_Scipy.ipynb\" target=\"_parent\"><img src=\"https://colab.research.google.com/assets/colab-badge.svg\" alt=\"Open In Colab\"/></a>"
      ]
    },
    {
      "cell_type": "code",
      "execution_count": 1,
      "metadata": {
        "colab": {
          "base_uri": "https://localhost:8080/"
        },
        "id": "y0-IyXGC7s13",
        "outputId": "1c207ad8-8c7a-4a1d-aae8-e01c7df68afd"
      },
      "outputs": [
        {
          "output_type": "stream",
          "name": "stdout",
          "text": [
            "Requirement already satisfied: scipy in /usr/local/lib/python3.10/dist-packages (1.13.1)\n",
            "Requirement already satisfied: numpy<2.3,>=1.22.4 in /usr/local/lib/python3.10/dist-packages (from scipy) (1.26.4)\n"
          ]
        }
      ],
      "source": [
        "!pip install scipy"
      ]
    },
    {
      "cell_type": "code",
      "source": [
        "from scipy import constants\n",
        "\n",
        "print(constants.pi)"
      ],
      "metadata": {
        "colab": {
          "base_uri": "https://localhost:8080/"
        },
        "id": "87e-1jsO8nxp",
        "outputId": "60729543-6e64-488d-fd1a-3c3cffc85f11"
      },
      "execution_count": 3,
      "outputs": [
        {
          "output_type": "stream",
          "name": "stdout",
          "text": [
            "3.141592653589793\n"
          ]
        }
      ]
    },
    {
      "cell_type": "code",
      "source": [
        "#List all constants:\n",
        "from scipy import constants\n",
        "\n",
        "print(dir(constants))"
      ],
      "metadata": {
        "colab": {
          "base_uri": "https://localhost:8080/"
        },
        "id": "fTUR1odW8whZ",
        "outputId": "90eb6b33-4d59-450e-d1c2-9042f0ea56cf"
      },
      "execution_count": 4,
      "outputs": [
        {
          "output_type": "stream",
          "name": "stdout",
          "text": [
            "['Avogadro', 'Boltzmann', 'Btu', 'Btu_IT', 'Btu_th', 'ConstantWarning', 'G', 'Julian_year', 'N_A', 'Planck', 'R', 'Rydberg', 'Stefan_Boltzmann', 'Wien', '__all__', '__builtins__', '__cached__', '__doc__', '__file__', '__loader__', '__name__', '__package__', '__path__', '__spec__', '_codata', '_constants', '_obsolete_constants', 'acre', 'alpha', 'angstrom', 'arcmin', 'arcminute', 'arcsec', 'arcsecond', 'astronomical_unit', 'atm', 'atmosphere', 'atomic_mass', 'atto', 'au', 'bar', 'barrel', 'bbl', 'blob', 'c', 'calorie', 'calorie_IT', 'calorie_th', 'carat', 'centi', 'codata', 'constants', 'convert_temperature', 'day', 'deci', 'degree', 'degree_Fahrenheit', 'deka', 'dyn', 'dyne', 'e', 'eV', 'electron_mass', 'electron_volt', 'elementary_charge', 'epsilon_0', 'erg', 'exa', 'exbi', 'femto', 'fermi', 'find', 'fine_structure', 'fluid_ounce', 'fluid_ounce_US', 'fluid_ounce_imp', 'foot', 'g', 'gallon', 'gallon_US', 'gallon_imp', 'gas_constant', 'gibi', 'giga', 'golden', 'golden_ratio', 'grain', 'gram', 'gravitational_constant', 'h', 'hbar', 'hectare', 'hecto', 'horsepower', 'hour', 'hp', 'inch', 'k', 'kgf', 'kibi', 'kilo', 'kilogram_force', 'kmh', 'knot', 'lambda2nu', 'lb', 'lbf', 'light_year', 'liter', 'litre', 'long_ton', 'm_e', 'm_n', 'm_p', 'm_u', 'mach', 'mebi', 'mega', 'metric_ton', 'micro', 'micron', 'mil', 'mile', 'milli', 'minute', 'mmHg', 'mph', 'mu_0', 'nano', 'nautical_mile', 'neutron_mass', 'nu2lambda', 'ounce', 'oz', 'parsec', 'pebi', 'peta', 'physical_constants', 'pi', 'pico', 'point', 'pound', 'pound_force', 'precision', 'proton_mass', 'psi', 'pt', 'quecto', 'quetta', 'ronna', 'ronto', 'short_ton', 'sigma', 'slinch', 'slug', 'speed_of_light', 'speed_of_sound', 'stone', 'survey_foot', 'survey_mile', 'tebi', 'tera', 'test', 'ton_TNT', 'torr', 'troy_ounce', 'troy_pound', 'u', 'unit', 'value', 'week', 'yard', 'year', 'yobi', 'yocto', 'yotta', 'zebi', 'zepto', 'zero_Celsius', 'zetta']\n"
          ]
        }
      ]
    },
    {
      "cell_type": "code",
      "source": [
        "from scipy import constants\n",
        "\n",
        "print(constants.yotta)    #1e+24\n",
        "print(constants.zetta)    #1e+21\n",
        "print(constants.exa)      #1e+18\n",
        "print(constants.peta)     #1000000000000000.0\n",
        "print(constants.tera)     #1000000000000.0\n",
        "print(constants.giga)     #1000000000.0\n",
        "print(constants.mega)     #1000000.0\n",
        "print(constants.kilo)     #1000.0\n",
        "print(constants.hecto)    #100.0\n",
        "print(constants.deka)     #10.0\n",
        "print(constants.deci)     #0.1\n",
        "print(constants.centi)    #0.01\n",
        "print(constants.milli)    #0.001\n",
        "print(constants.micro)    #1e-06\n",
        "print(constants.nano)     #1e-09\n",
        "print(constants.pico)     #1e-12\n",
        "print(constants.femto)    #1e-15\n",
        "print(constants.atto)     #1e-18\n",
        "print(constants.zepto)    #1e-21"
      ],
      "metadata": {
        "colab": {
          "base_uri": "https://localhost:8080/"
        },
        "id": "dRhF9n1Y8-GE",
        "outputId": "ff5283d4-de14-49d5-8a4b-f5fb71c8b7df"
      },
      "execution_count": 5,
      "outputs": [
        {
          "output_type": "stream",
          "name": "stdout",
          "text": [
            "1e+24\n",
            "1e+21\n",
            "1e+18\n",
            "1000000000000000.0\n",
            "1000000000000.0\n",
            "1000000000.0\n",
            "1000000.0\n",
            "1000.0\n",
            "100.0\n",
            "10.0\n",
            "0.1\n",
            "0.01\n",
            "0.001\n",
            "1e-06\n",
            "1e-09\n",
            "1e-12\n",
            "1e-15\n",
            "1e-18\n",
            "1e-21\n"
          ]
        }
      ]
    },
    {
      "cell_type": "code",
      "source": [],
      "metadata": {
        "id": "YEFLmaIQ9Ei2"
      },
      "execution_count": null,
      "outputs": []
    },
    {
      "cell_type": "markdown",
      "source": [
        "**Optimizers in SciPy**\n",
        "Optimizers are a set of procedures defined in SciPy that either find the minimum value of a function, or the root of an equation."
      ],
      "metadata": {
        "id": "00OJ89DN9TfO"
      }
    },
    {
      "cell_type": "markdown",
      "source": [
        "**Roots of an Equation**\n",
        "\n",
        "NumPy is capable of finding roots for polynomials and linear equations, but it can not find roots for non linear equations, like this one:\n",
        "\n",
        "**x + cos(x)**\n",
        "\n",
        "For that you can use SciPy's optimize.root function.\n",
        "\n",
        "This function takes two required arguments:\n",
        "\n",
        "fun - a function representing an equation.\n",
        "\n",
        "x0 - an initial guess for the root.\n",
        "\n",
        "The function returns an object with information regarding the solution.\n",
        "\n",
        "The actual solution is given under attribute x of the returned object:"
      ],
      "metadata": {
        "id": "dn72rMNb9WH4"
      }
    },
    {
      "cell_type": "code",
      "source": [
        "from scipy.optimize import root\n",
        "from math import cos\n",
        "\n",
        "def eqn(x):\n",
        "  return x + cos(x)\n",
        "\n",
        "myroot = root(eqn, 0)\n",
        "\n",
        "print(myroot.x)"
      ],
      "metadata": {
        "colab": {
          "base_uri": "https://localhost:8080/"
        },
        "id": "tNxULgqW9ds4",
        "outputId": "09100070-03f1-4cf4-f36a-641ba0b41109"
      },
      "execution_count": 6,
      "outputs": [
        {
          "output_type": "stream",
          "name": "stdout",
          "text": [
            "[-0.73908513]\n"
          ]
        },
        {
          "output_type": "stream",
          "name": "stderr",
          "text": [
            "<ipython-input-6-fe8d06d47cbb>:5: DeprecationWarning: Conversion of an array with ndim > 0 to a scalar is deprecated, and will error in future. Ensure you extract a single element from your array before performing this operation. (Deprecated NumPy 1.25.)\n",
            "  return x + cos(x)\n"
          ]
        }
      ]
    },
    {
      "cell_type": "code",
      "source": [
        "print(myroot)"
      ],
      "metadata": {
        "colab": {
          "base_uri": "https://localhost:8080/"
        },
        "id": "kWXYNrI99pPy",
        "outputId": "22cee3b2-be2f-4a4b-fc07-3b87a8ccc931"
      },
      "execution_count": 7,
      "outputs": [
        {
          "output_type": "stream",
          "name": "stdout",
          "text": [
            " message: The solution converged.\n",
            " success: True\n",
            "  status: 1\n",
            "     fun: [ 0.000e+00]\n",
            "       x: [-7.391e-01]\n",
            "  method: hybr\n",
            "    nfev: 9\n",
            "    fjac: [[-1.000e+00]]\n",
            "       r: [-1.674e+00]\n",
            "     qtf: [-2.668e-13]\n"
          ]
        }
      ]
    },
    {
      "cell_type": "markdown",
      "source": [
        "**What is Sparse Data**\n",
        "\n",
        "Sparse data is data that has mostly unused elements (elements that don't carry any information ).\n",
        "\n",
        "It can be an array like this one:\n",
        "\n",
        "[1, 0, 2, 0, 0, 3, 0, 0, 0, 0, 0, 0]\n",
        "\n",
        "Sparse Data: is a data set where most of the item values are zero.\n",
        "\n",
        "Dense Array: is the opposite of a sparse array: most of the values are not zero\n",
        "\n"
      ],
      "metadata": {
        "id": "wetsY-2z_l9u"
      }
    },
    {
      "cell_type": "markdown",
      "source": [
        "**How to Work With Sparse Data**\n",
        "SciPy has a module, scipy.sparse that provides functions to deal with sparse data.\n",
        "\n",
        "There are primarily two types of sparse matrices that we use:\n",
        "\n",
        "CSC - Compressed Sparse Column. For efficient arithmetic, fast column slicing.\n",
        "\n",
        "CSR - Compressed Sparse Row. For fast row slicing, faster matrix vector products\n",
        "\n"
      ],
      "metadata": {
        "id": "YN9zILLZAvIi"
      }
    },
    {
      "cell_type": "code",
      "source": [
        "import numpy as np\n",
        "from scipy.sparse import csr_matrix\n",
        "\n",
        "arr = np.array([0, 0, 0, 0, 0, 1, 1, 0, 2])\n",
        "\n",
        "print(csr_matrix(arr))"
      ],
      "metadata": {
        "colab": {
          "base_uri": "https://localhost:8080/"
        },
        "id": "3k5cMino9trM",
        "outputId": "a28b1a61-0372-4600-c16f-dae044467109"
      },
      "execution_count": 8,
      "outputs": [
        {
          "output_type": "stream",
          "name": "stdout",
          "text": [
            "  (0, 5)\t1\n",
            "  (0, 6)\t1\n",
            "  (0, 8)\t2\n"
          ]
        }
      ]
    },
    {
      "cell_type": "markdown",
      "source": [
        "From the result we can see that there are 3 items with value.\n",
        "\n",
        "The 1. item is in row 0 position 5 and has the value 1.\n",
        "\n",
        "The 2. item is in row 0 position 6 and has the value 1.\n",
        "\n",
        "The 3. item is in row 0 position 8 and has the value 2."
      ],
      "metadata": {
        "id": "ipEnH1pqA8f4"
      }
    },
    {
      "cell_type": "markdown",
      "source": [
        "**Sparse Matrix Methods**\n",
        "\n",
        "Viewing stored data (not the zero items) with the data property:"
      ],
      "metadata": {
        "id": "S27sztIIBGh1"
      }
    },
    {
      "cell_type": "code",
      "source": [
        "import numpy as np\n",
        "from scipy.sparse import csr_matrix\n",
        "\n",
        "arr = np.array([[0, 0, 0], [0, 0, 1], [1, 0, 2]])\n",
        "\n",
        "print(csr_matrix(arr).data)\n"
      ],
      "metadata": {
        "colab": {
          "base_uri": "https://localhost:8080/"
        },
        "id": "c7N_rGETBGK1",
        "outputId": "c85c16ae-dd40-499c-b892-b7bf0b8b5805"
      },
      "execution_count": 10,
      "outputs": [
        {
          "output_type": "stream",
          "name": "stdout",
          "text": [
            "[1 1 2]\n"
          ]
        }
      ]
    },
    {
      "cell_type": "code",
      "source": [
        "import numpy as np\n",
        "from scipy.sparse import csr_matrix\n",
        "\n",
        "arr = np.array([[0, 0, 0], [0, 0, 1], [1, 0, 2]])\n",
        "\n",
        "print(csr_matrix(arr).count_nonzero())"
      ],
      "metadata": {
        "colab": {
          "base_uri": "https://localhost:8080/"
        },
        "id": "rSVCMUPqBGOb",
        "outputId": "07f3a654-ae85-4436-8a22-9892aa108f4c"
      },
      "execution_count": 11,
      "outputs": [
        {
          "output_type": "stream",
          "name": "stdout",
          "text": [
            "3\n"
          ]
        }
      ]
    },
    {
      "cell_type": "code",
      "source": [
        "import numpy as np\n",
        "from scipy.sparse import csr_matrix\n",
        "\n",
        "arr = np.array([[0, 0, 0], [0, 0, 1], [1, 0, 2]])\n",
        "\n",
        "mat = csr_matrix(arr)\n",
        "mat.eliminate_zeros()\n",
        "\n",
        "print(mat)"
      ],
      "metadata": {
        "colab": {
          "base_uri": "https://localhost:8080/"
        },
        "id": "8Lb_HOi0A9-N",
        "outputId": "d3bf9872-9190-4e7b-9de6-ee0cee1d66c8"
      },
      "execution_count": 12,
      "outputs": [
        {
          "output_type": "stream",
          "name": "stdout",
          "text": [
            "  (1, 2)\t1\n",
            "  (2, 0)\t1\n",
            "  (2, 2)\t2\n"
          ]
        }
      ]
    },
    {
      "cell_type": "markdown",
      "source": [
        "**Working with Graphs**\n",
        "Graphs are an essential data structure.\n",
        "\n",
        "SciPy provides us with the module scipy.sparse.csgraph for working with such data structures.\n",
        "\n"
      ],
      "metadata": {
        "id": "j7M-nBZRBuc8"
      }
    },
    {
      "cell_type": "markdown",
      "source": [
        "**Connected Components**\n",
        "Find all of the connected components with the connected_components() method."
      ],
      "metadata": {
        "id": "gadXyvvNB_fp"
      }
    },
    {
      "cell_type": "code",
      "source": [
        "import numpy as np\n",
        "from scipy.sparse.csgraph import connected_components\n",
        "from scipy.sparse import csr_matrix\n",
        "\n",
        "arr = np.array([\n",
        "  [0, 1, 2],\n",
        "  [1, 0, 0],\n",
        "  [2, 0, 0]\n",
        "])\n",
        "\n",
        "newarr = csr_matrix(arr)\n",
        "\n",
        "print(connected_components(newarr))"
      ],
      "metadata": {
        "colab": {
          "base_uri": "https://localhost:8080/"
        },
        "id": "n7cDp6G2CHQx",
        "outputId": "0f38a13b-e8fc-460b-98c4-4a1125234932"
      },
      "execution_count": 13,
      "outputs": [
        {
          "output_type": "stream",
          "name": "stdout",
          "text": [
            "(1, array([0, 0, 0], dtype=int32))\n"
          ]
        }
      ]
    },
    {
      "cell_type": "markdown",
      "source": [
        "**Exercise 1:**\n",
        "\n",
        "Problem: You are about to flip a coin five times. The probability of getting heads (success) is 0.5. What is the probability of getting 3 heads?"
      ],
      "metadata": {
        "id": "XL1zYyi4V2E3"
      }
    },
    {
      "cell_type": "code",
      "source": [
        "from scipy.stats import binom\n",
        "\n",
        "n = 5  # number of trials\n",
        "p = 0.5  # probability of success\n",
        "k = 3  # number of successes\n",
        "\n",
        "# calculate binomial distribution probability\n",
        "prob = binom.pmf(k, n, p)\n",
        "print(\"The probability of getting 3 heads is\", prob)"
      ],
      "metadata": {
        "colab": {
          "base_uri": "https://localhost:8080/"
        },
        "id": "TgYMSQFHV1hU",
        "outputId": "da34f4a2-1312-4121-b8ab-e730765403ad"
      },
      "execution_count": 14,
      "outputs": [
        {
          "output_type": "stream",
          "name": "stdout",
          "text": [
            "The probability of getting 3 heads is 0.31249999999999983\n"
          ]
        }
      ]
    },
    {
      "cell_type": "markdown",
      "source": [
        "**Exercise 2:**\n",
        "\n",
        "Problem: A manufacturer knows that 10% of his products are defective. He sells products in boxes of 20. What is the probability that a box will contain exactly 2 defective products?"
      ],
      "metadata": {
        "id": "k7DRa5RSWDun"
      }
    },
    {
      "cell_type": "code",
      "source": [
        "from scipy.stats import binom\n",
        "\n",
        "n = 20  # number of trials\n",
        "p = 0.1  # probability of success (defective is considered 'success' in this context)\n",
        "k = 2  # number of successes\n",
        "\n",
        "# calculate binomial distribution probability\n",
        "prob = binom.pmf(k, n, p)\n",
        "print(\"The probability that a box will contain exactly 2 defective products is\", prob)"
      ],
      "metadata": {
        "colab": {
          "base_uri": "https://localhost:8080/"
        },
        "id": "y_ZAgKPvWAZB",
        "outputId": "53b56547-4166-4ca3-e6eb-dee428cfda78"
      },
      "execution_count": 15,
      "outputs": [
        {
          "output_type": "stream",
          "name": "stdout",
          "text": [
            "The probability that a box will contain exactly 2 defective products is 0.28517980706429846\n"
          ]
        }
      ]
    },
    {
      "cell_type": "markdown",
      "source": [
        "**Exercise 3:**\n",
        "\n",
        "Problem: A multiple-choice quiz contains 10 questions. Each question has four possible answers, of which one is correct. If a student guesses the answer to each question at random, what is the probability that the student will answer exactly 4 questions correctly?"
      ],
      "metadata": {
        "id": "dRcV5-X6WbQ6"
      }
    },
    {
      "cell_type": "code",
      "source": [
        "from scipy.stats import binom\n",
        "\n",
        "n = 10  # number of trials\n",
        "p = 0.25  # probability of success (guessing correctly)\n",
        "k = 4  # number of successes\n",
        "\n",
        "# calculate binomial distribution probability\n",
        "prob = binom.pmf(k, n, p)\n",
        "print(\"The probability that the student will answer exactly 4 questions correctly is\", prob)"
      ],
      "metadata": {
        "colab": {
          "base_uri": "https://localhost:8080/"
        },
        "id": "Mi-5T0WzWWKS",
        "outputId": "e74fccb9-b9dd-4a61-e182-b2cb2a1c9400"
      },
      "execution_count": 16,
      "outputs": [
        {
          "output_type": "stream",
          "name": "stdout",
          "text": [
            "The probability that the student will answer exactly 4 questions correctly is 0.14599800109863273\n"
          ]
        }
      ]
    },
    {
      "cell_type": "markdown",
      "source": [
        "**Exercise 4:**\n",
        "\n",
        "Problem: A fast food restaurant serves an average of 10 customers every 15 minutes. What is the probability of serving exactly 7 customers in a 15 minute interval?"
      ],
      "metadata": {
        "id": "gu7qZ7l8WqYS"
      }
    },
    {
      "cell_type": "code",
      "source": [
        "from scipy.stats import poisson\n",
        "\n",
        "mu = 10  # average rate of success\n",
        "k = 7  # number of successes\n",
        "\n",
        "# calculate Poisson distribution probability\n",
        "prob = poisson.pmf(k, mu)\n",
        "print(\"The probability of serving exactly 7 customers in 15 minutes is\", prob)"
      ],
      "metadata": {
        "colab": {
          "base_uri": "https://localhost:8080/"
        },
        "id": "tZEVOOtoWa9W",
        "outputId": "7ffe71c3-453e-4ade-c59f-5a2092a88208"
      },
      "execution_count": 17,
      "outputs": [
        {
          "output_type": "stream",
          "name": "stdout",
          "text": [
            "The probability of serving exactly 7 customers in 15 minutes is 0.090079225719216\n"
          ]
        }
      ]
    },
    {
      "cell_type": "markdown",
      "source": [
        "**Exercise 5:**\n",
        "\n",
        "Problem: An IQ test is scored such that the mean score is 100 and the standard deviation is 15. What is the probability of a person scoring higher than 130?"
      ],
      "metadata": {
        "id": "JiRhkErSXQya"
      }
    },
    {
      "cell_type": "code",
      "source": [
        "from scipy.stats import norm\n",
        "\n",
        "mu = 100  # mean\n",
        "sigma = 15  # standard deviation\n",
        "x = 130  # score\n",
        "\n",
        "# calculate standard normal distribution probability\n",
        "prob = 1 - norm.cdf(x, mu, sigma)\n",
        "print(\"The probability of a score being higher than 130 is\", prob)"
      ],
      "metadata": {
        "colab": {
          "base_uri": "https://localhost:8080/"
        },
        "id": "YxPDeBRrXa6y",
        "outputId": "ada0ae25-d429-4770-c61b-f1b29ce3b4a8"
      },
      "execution_count": 18,
      "outputs": [
        {
          "output_type": "stream",
          "name": "stdout",
          "text": [
            "The probability of a score being higher than 130 is 0.02275013194817921\n"
          ]
        }
      ]
    },
    {
      "cell_type": "markdown",
      "source": [
        "**Exercise 6:**\n",
        "\n",
        "Problem: A sample of 20 students' test scores has a mean of 76 and a standard deviation of 10. What is the probability of a student scoring less than 70?"
      ],
      "metadata": {
        "id": "gcKHeXjCXhH3"
      }
    },
    {
      "cell_type": "code",
      "source": [
        "from scipy.stats import t\n",
        "import numpy as np\n",
        "\n",
        "# Given values\n",
        "n = 20  # Sample size\n",
        "mean = 76  # Sample mean\n",
        "std_dev = 10  # Sample standard deviation\n",
        "score = 70  # Score to find the probability for\n",
        "\n",
        "# Calculate the t-score\n",
        "t_score = (score - mean) / (std_dev / np.sqrt(n))\n",
        "\n",
        "# Degrees of freedom\n",
        "df = n - 1\n",
        "\n",
        "# Calculate the probability using the CDF of the t-distribution\n",
        "probability = t.cdf(t_score, df)\n",
        "\n",
        "print(f\"The probability of a student scoring less than 70 is {probability:.4f}\")"
      ],
      "metadata": {
        "colab": {
          "base_uri": "https://localhost:8080/"
        },
        "id": "VknB_LCdXg3Y",
        "outputId": "69c5cf51-bb5e-43fc-f0f1-a5dae51e551c"
      },
      "execution_count": 19,
      "outputs": [
        {
          "output_type": "stream",
          "name": "stdout",
          "text": [
            "The probability of a student scoring less than 70 is 0.0074\n"
          ]
        }
      ]
    },
    {
      "cell_type": "markdown",
      "source": [
        "Extra-exercises: Relevant use cases are in context of hypotheses and model estimation\n",
        "\n",
        "**Exercise 7**\n",
        "\n",
        "Suppose the variance of a sample of 20 observations is 5. What is the probability that the sample variance is greater than 6?"
      ],
      "metadata": {
        "id": "oi8d10UxX16M"
      }
    },
    {
      "cell_type": "code",
      "source": [
        "from scipy.stats import chi2\n",
        "\n",
        "df = 19  # degrees of freedom\n",
        "sample_variance = 5\n",
        "x = df * 6 / sample_variance  # chi-square value\n",
        "\n",
        "# calculate Chi-square distribution probability\n",
        "prob = 1 - chi2.cdf(x, df)\n",
        "print(\"The probability that the sample variance is greater than 6 is\", prob)"
      ],
      "metadata": {
        "colab": {
          "base_uri": "https://localhost:8080/"
        },
        "id": "6AiQRW0cXxMO",
        "outputId": "7eba1574-4187-4fd5-a7ad-6edb7e7f63bc"
      },
      "execution_count": 20,
      "outputs": [
        {
          "output_type": "stream",
          "name": "stdout",
          "text": [
            "The probability that the sample variance is greater than 6 is 0.2462658529094548\n"
          ]
        }
      ]
    },
    {
      "cell_type": "markdown",
      "source": [
        "**Exercise 8:**\n",
        "\n",
        "If two groups of data are sampled from normal distributions with the same variance, the ratio of their sample variances will follow an F-distribution. Suppose you have two samples of sizes 15 and 20 with variances 4 and 2, respectively. What is the probability that the ratio of these sample variances is less than 1?"
      ],
      "metadata": {
        "id": "9dHsdVUXYLDG"
      }
    },
    {
      "cell_type": "code",
      "source": [
        "from scipy.stats import f\n",
        "\n",
        "df1 = 14  # degrees of freedom for the first sample\n",
        "df2 = 19  # degrees of freedom for the second sample\n",
        "F = 4 / 2  # F value\n",
        "\n",
        "# calculate F-distribution probability\n",
        "prob = f.cdf(F, df1, df2)\n",
        "print(\"The probability that the ratio of the sample variances is less than 1 is\", prob)"
      ],
      "metadata": {
        "colab": {
          "base_uri": "https://localhost:8080/"
        },
        "id": "UQBiygEvYKv8",
        "outputId": "f155b3a6-a612-4c71-be76-db266856a359"
      },
      "execution_count": 21,
      "outputs": [
        {
          "output_type": "stream",
          "name": "stdout",
          "text": [
            "The probability that the ratio of the sample variances is less than 1 is 0.9201831653918014\n"
          ]
        }
      ]
    },
    {
      "cell_type": "code",
      "source": [
        "import numpy as np\n",
        "from scipy import stats\n",
        "import matplotlib.pyplot as plt\n",
        "\n",
        "# Generate sample data for 10 students\n",
        "np.random.seed(42)  # for reproducibility\n",
        "scores = np.random.normal(75, 10, 10).round().astype(int)\n",
        "\n",
        "# Calculate sample statistics\n",
        "sample_mean = np.mean(scores)\n",
        "sample_std = np.std(scores, ddof=1)  # ddof=1 for sample standard deviation\n",
        "n = len(scores)\n",
        "\n",
        "print(f\"Student Scores: {scores}\")\n",
        "print(f\"Sample Mean: {sample_mean:.2f}\")\n",
        "print(f\"Sample Standard Deviation: {sample_std:.2f}\")\n",
        "\n",
        "# Calculate the t-statistic for a score of 85\n",
        "score_to_check = 85\n",
        "t_stat = (score_to_check - sample_mean) / (sample_std / np.sqrt(n))\n",
        "\n",
        "# Degrees of freedom\n",
        "df = n - 1\n",
        "\n",
        "# Calculate the probability of scoring above 85\n",
        "p_value = 1 - stats.t.cdf(t_stat, df)\n",
        "\n",
        "print(f\"\\nProbability of scoring above {score_to_check}: {p_value:.4f}\")\n",
        "\n",
        "# Calculate 95% confidence interval for the population mean\n",
        "conf_interval = stats.t.interval(confidence=0.95, df=df, loc=sample_mean, scale=sample_std/np.sqrt(n))\n",
        "print(f\"\\n95% Confidence Interval for population mean: {conf_interval}\")\n",
        "\n",
        "# Perform one-sample t-test to check if the mean score is significantly different from 70\n",
        "t_statistic, p_value = stats.ttest_1samp(scores, 70)\n",
        "print(f\"\\nOne-sample t-test (H0: mean = 70):\")\n",
        "print(f\"t-statistic: {t_statistic:.4f}\")\n",
        "print(f\"p-value: {p_value:.4f}\")\n",
        "\n",
        "# Plot the t-distribution and highlight the observed t-statistic\n",
        "x = np.linspace(stats.t.ppf(0.001, df), stats.t.ppf(0.999, df), 100)\n",
        "plt.figure(figsize=(10, 6))\n",
        "plt.plot(x, stats.t.pdf(x, df), 'b-', lw=2, label='t-distribution')\n",
        "plt.fill_between(x[x>t_stat], stats.t.pdf(x[x>t_stat], df), color='red', alpha=0.3, label='p-value region')\n",
        "plt.axvline(t_stat, color='r', linestyle='--', label=f't-statistic ({t_stat:.2f})')\n",
        "plt.title(f\"T-Distribution (df={df}) with Observed t-statistic\")\n",
        "plt.xlabel('t-value')\n",
        "plt.ylabel('Probability Density')\n",
        "plt.legend()\n",
        "plt.grid(True)\n",
        "plt.show()"
      ],
      "metadata": {
        "colab": {
          "base_uri": "https://localhost:8080/",
          "height": 755
        },
        "id": "BY1wsP-VYHhm",
        "outputId": "17e0d042-27e6-4071-88d9-b4321510706f"
      },
      "execution_count": 24,
      "outputs": [
        {
          "output_type": "stream",
          "name": "stdout",
          "text": [
            "Student Scores: [80 74 81 90 73 73 91 83 70 80]\n",
            "Sample Mean: 79.50\n",
            "Sample Standard Deviation: 7.17\n",
            "\n",
            "Probability of scoring above 85: 0.0191\n",
            "\n",
            "95% Confidence Interval for population mean: (74.37188934388588, 84.62811065611412)\n",
            "\n",
            "One-sample t-test (H0: mean = 70):\n",
            "t-statistic: 4.1907\n",
            "p-value: 0.0023\n"
          ]
        },
        {
          "output_type": "display_data",
          "data": {
            "text/plain": [
              "<Figure size 1000x600 with 1 Axes>"
            ],
            "image/png": "[encoded data removed]"
          },
          "metadata": {}
        }
      ]
    },
    {
      "cell_type": "code",
      "source": [
        "from scipy import stats\n",
        "import numpy as np\n",
        "\n",
        "# Given values\n",
        "n = 20  # Sample size\n",
        "sample_mean = 76  # Sample mean\n",
        "sample_std = 10  # Sample standard deviation\n",
        "score_threshold = 70  # Score to find the probability for\n",
        "\n",
        "# Calculate degrees of freedom\n",
        "df = n - 1\n",
        "\n",
        "# Calculate the t-score\n",
        "t_score = (score_threshold - sample_mean) / (sample_std / np.sqrt(n))\n",
        "\n",
        "# Calculate the probability using the cumulative distribution function (CDF) of the t-distribution\n",
        "probability = stats.t.cdf(t_score, df)\n",
        "\n",
        "print(f\"Sample size: {n}\")\n",
        "print(f\"Sample mean: {sample_mean}\")\n",
        "print(f\"Sample standard deviation: {sample_std}\")\n",
        "print(f\"Score threshold: {score_threshold}\")\n",
        "print(f\"Degrees of freedom: {df}\")\n",
        "print(f\"T-score: {t_score:.4f}\")\n",
        "print(f\"The probability of a student scoring less than {score_threshold} is {probability:.4f}\")\n",
        "print(f\"This is equivalent to {probability * 100:.2f}%\")"
      ],
      "metadata": {
        "colab": {
          "base_uri": "https://localhost:8080/"
        },
        "id": "Dkig2izjZe8K",
        "outputId": "832c9d13-48b5-497c-f4d7-fe52a40446e1"
      },
      "execution_count": 25,
      "outputs": [
        {
          "output_type": "stream",
          "name": "stdout",
          "text": [
            "Sample size: 20\n",
            "Sample mean: 76\n",
            "Sample standard deviation: 10\n",
            "Score threshold: 70\n",
            "Degrees of freedom: 19\n",
            "T-score: -2.6833\n",
            "The probability of a student scoring less than 70 is 0.0074\n",
            "This is equivalent to 0.74%\n"
          ]
        }
      ]
    }
  ]
}