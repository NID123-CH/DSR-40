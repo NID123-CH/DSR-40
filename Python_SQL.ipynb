{
  "nbformat": 4,
  "nbformat_minor": 0,
  "metadata": {
    "colab": {
      "provenance": []
    },
    "kernelspec": {
      "name": "python3",
      "display_name": "Python 3"
    },
    "language_info": {
      "name": "python"
    }
  },
  "cells": [
    {
      "cell_type": "code",
      "source": [
        "# Import library\n",
        "import sqlite3\n",
        "from sqlite3 import Error"
      ],
      "metadata": {
        "id": "Zo1MtnLf_g0Z"
      },
      "execution_count": null,
      "outputs": []
    },
    {
      "cell_type": "code",
      "source": [
        "# Connect to an SQLite database; use ':memory:' for an in-memory database\n",
        "conn = sqlite3.connect(':memory:')\n",
        "\n",
        "# Connect to a remote compatible SQL server\n",
        "# conn = sqlite3.connect('host=hostname user=username password=password dbname=database_name')\n",
        "\n",
        "# USE IF YOU WANT TO LOAD/SAVE THE DATABASE AS A BINARY FILE TO ACCESS LATER\n",
        "# def create_connection(db_file):\n",
        "#     \"\"\" create a database connection to the SQLite database\n",
        "#         specified by db_file\n",
        "#     :param db_file: database file\n",
        "#     :return: Connection object or None\n",
        "#     \"\"\"\n",
        "#     conn = None\n",
        "#     try:\n",
        "#         conn = sqlite3.connect(db_file)\n",
        "#         return conn\n",
        "#     except Error as e:\n",
        "#         print(e)\n",
        "\n",
        "#     return conn\n",
        "\n",
        "# conn = create_connection('testing.db')"
      ],
      "metadata": {
        "id": "6rgz1YPoFXtR"
      },
      "execution_count": null,
      "outputs": []
    },
    {
      "cell_type": "code",
      "source": [
        "# Execute a SQL command to create a new table\n",
        "c = conn.cursor()\n",
        "c.execute('''\n",
        "          CREATE TABLE stocks\n",
        "          (date text, trans text, symbol text, qty real, price real)\n",
        "          ''')"
      ],
      "metadata": {
        "colab": {
          "base_uri": "https://localhost:8080/"
        },
        "id": "pgSHMo8__jPE",
        "outputId": "fef2532b-81e6-4395-f1e9-8715634da995"
      },
      "execution_count": null,
      "outputs": [
        {
          "output_type": "execute_result",
          "data": {
            "text/plain": [
              "<sqlite3.Cursor at 0x7c180f543a40>"
            ]
          },
          "metadata": {},
          "execution_count": 3
        }
      ]
    },
    {
      "cell_type": "code",
      "source": [
        "# Execute a SQL command to insert data into the table\n",
        "c.execute(\"INSERT INTO stocks VALUES ('2006-01-05','BUY','ABC',100,35.14)\")\n",
        "\n",
        "# Commit the transaction to save changes to the database\n",
        "conn.commit()"
      ],
      "metadata": {
        "id": "gK5nK6EyDZee"
      },
      "execution_count": null,
      "outputs": []
    },
    {
      "cell_type": "code",
      "source": [
        "# Execute a SQL SELECT statement to query the database\n",
        "c.execute(\"SELECT * FROM stocks WHERE trans='BUY'\")\n",
        "\n",
        "# Fetch all rows from the result of the query\n",
        "print(c.fetchall())"
      ],
      "metadata": {
        "colab": {
          "base_uri": "https://localhost:8080/"
        },
        "id": "0nmXrgIjDc-N",
        "outputId": "d3c4a13b-0ddb-4e02-eda0-d4490570183d"
      },
      "execution_count": null,
      "outputs": [
        {
          "output_type": "stream",
          "name": "stdout",
          "text": [
            "[('2006-01-05', 'BUY', 'ABC', 100.0, 35.14)]\n"
          ]
        }
      ]
    },
    {
      "cell_type": "code",
      "source": [
        "# Execute a SQL SELECT statement to query the database\n",
        "c.execute(\"SELECT * FROM stocks\")\n",
        "\n",
        "# Fetch all rows from the result of the query\n",
        "print(c.fetchall())"
      ],
      "metadata": {
        "colab": {
          "base_uri": "https://localhost:8080/"
        },
        "id": "uRrw1p2sDgYl",
        "outputId": "04dc1246-e8cd-40c0-d71c-3a89a5f7e2c4"
      },
      "execution_count": null,
      "outputs": [
        {
          "output_type": "stream",
          "name": "stdout",
          "text": [
            "[('2006-01-05', 'BUY', 'ABC', 100.0, 35.14)]\n"
          ]
        }
      ]
    },
    {
      "cell_type": "code",
      "source": [
        "def execute_querry(conn, sql_querry):\n",
        "    \"\"\" create a table from the create_table_sql statement\n",
        "    :param conn: Connection object\n",
        "    :param create_table_sql: a CREATE TABLE statement\n",
        "    :return:\n",
        "    \"\"\"\n",
        "    try:\n",
        "        c = conn.cursor()\n",
        "        c.execute(sql_querry)\n",
        "    except Error as e:\n",
        "        print(e)\n",
        "\n",
        "    print(c.fetchall())"
      ],
      "metadata": {
        "id": "9ytdG86iGHpD"
      },
      "execution_count": null,
      "outputs": []
    },
    {
      "cell_type": "code",
      "source": [
        "sql_create_projects_table = \"\"\" CREATE TABLE IF NOT EXISTS projects (\n",
        "                                        id integer PRIMARY KEY,\n",
        "                                        name text NOT NULL,\n",
        "                                        begin_date text,\n",
        "                                        end_date text\n",
        "                                    ); \"\"\"\n",
        "\n",
        "sql_create_tasks_table = \"\"\"CREATE TABLE IF NOT EXISTS tasks (\n",
        "                                    id integer PRIMARY KEY,\n",
        "                                    name text NOT NULL,\n",
        "                                    priority integer,\n",
        "                                    status_id integer NOT NULL,\n",
        "                                    project_id integer NOT NULL,\n",
        "                                    begin_date text NOT NULL,\n",
        "                                    end_date text NOT NULL,\n",
        "                                    FOREIGN KEY (project_id) REFERENCES projects (id)\n",
        "                                );\"\"\"\n",
        "\n",
        "list_all_tables = \"\"\"SELECT name FROM sqlite_master WHERE type='table';\"\"\"\n",
        "\n",
        "# create tables\n",
        "if conn is not None:\n",
        "\n",
        "  # create projects table\n",
        "  execute_querry(conn, sql_create_projects_table)\n",
        "\n",
        "  # create tasks table\n",
        "  execute_querry(conn, sql_create_tasks_table)\n",
        "\n",
        "  # lsit created tables\n",
        "  execute_querry(conn, list_all_tables)\n",
        "\n",
        "else:\n",
        "  print(\"Error! cannot create the database connection.\")"
      ],
      "metadata": {
        "colab": {
          "base_uri": "https://localhost:8080/"
        },
        "id": "pFrBO34yDk99",
        "outputId": "d354402f-76a6-468e-a6da-0d407e283768"
      },
      "execution_count": null,
      "outputs": [
        {
          "output_type": "stream",
          "name": "stdout",
          "text": [
            "[]\n",
            "[]\n",
            "[('stocks',), ('projects',), ('tasks',)]\n"
          ]
        }
      ]
    },
    {
      "cell_type": "code",
      "source": [
        "# THE TASK\n",
        "# Import the Titanic Dataset\n",
        "\n",
        "import pandas as pd\n",
        "import seaborn as sns\n",
        "\n",
        "# Load the Titanic dataset from seaborn\n",
        "titanic_df = sns.load_dataset('titanic')\n",
        "for column in titanic_df:\n",
        "  print(column)\n",
        "\n",
        "print(titanic_df.head())\n",
        "\n",
        "\n"
      ],
      "metadata": {
        "colab": {
          "base_uri": "https://localhost:8080/"
        },
        "id": "0-FgVo9cEXGW",
        "outputId": "357acb0c-fa40-4481-b5d9-1b2a15790bdc"
      },
      "execution_count": null,
      "outputs": [
        {
          "output_type": "stream",
          "name": "stdout",
          "text": [
            "survived\n",
            "pclass\n",
            "sex\n",
            "age\n",
            "sibsp\n",
            "parch\n",
            "fare\n",
            "embarked\n",
            "class\n",
            "who\n",
            "adult_male\n",
            "deck\n",
            "embark_town\n",
            "alive\n",
            "alone\n",
            "   survived  pclass     sex   age  sibsp  parch     fare embarked  class  \\\n",
            "0         0       3    male  22.0      1      0   7.2500        S  Third   \n",
            "1         1       1  female  38.0      1      0  71.2833        C  First   \n",
            "2         1       3  female  26.0      0      0   7.9250        S  Third   \n",
            "3         1       1  female  35.0      1      0  53.1000        S  First   \n",
            "4         0       3    male  35.0      0      0   8.0500        S  Third   \n",
            "\n",
            "     who  adult_male deck  embark_town alive  alone  \n",
            "0    man        True  NaN  Southampton    no  False  \n",
            "1  woman       False    C    Cherbourg   yes  False  \n",
            "2  woman       False  NaN  Southampton   yes   True  \n",
            "3  woman       False    C  Southampton   yes  False  \n",
            "4    man        True  NaN  Southampton    no   True  \n"
          ]
        }
      ]
    },
    {
      "cell_type": "code",
      "source": [
        "# WITH SQL QUERRIES TRY TO ANSWEAR THESE QUESTIONS:\n",
        "\n",
        "# EASY\n",
        "# WHAT % OF PASSENGERS SURVIVED?\n",
        "# WHAT WAS THE AGE OF THE YOUNGEST AND OLDEST PERSON THAT SURVIVED?\n",
        "# HOW MANY PASSENGERS WERE IN EACH CLASS?\n",
        "\n",
        "# ADVANCED\n",
        "# HOW MANY PEOPLE SURVIVED OUT OF THE 10% LOWEST FARES PAID FOR THE CRUISE?\n",
        "# HOW MANY PEOPLE SURVIVED THAT PAID AT LEAST $70 FOR THE CRUISE?"
      ],
      "metadata": {
        "id": "rUGH7lsWUbr_"
      },
      "execution_count": null,
      "outputs": []
    },
    {
      "cell_type": "code",
      "source": [
        "titanic_df.to_sql(name='titanic', con=conn)"
      ],
      "metadata": {
        "colab": {
          "base_uri": "https://localhost:8080/"
        },
        "id": "MankJdghx5Pa",
        "outputId": "e4708616-1e6c-4d3d-c168-b31c4f630def"
      },
      "execution_count": null,
      "outputs": [
        {
          "output_type": "execute_result",
          "data": {
            "text/plain": [
              "891"
            ]
          },
          "metadata": {},
          "execution_count": 11
        }
      ]
    },
    {
      "cell_type": "code",
      "source": [
        "execute_querry(conn, \"Select 1.0 * sum(survived)/count(survived) FROM titanic\")"
      ],
      "metadata": {
        "colab": {
          "base_uri": "https://localhost:8080/"
        },
        "id": "jNlkEWkax517",
        "outputId": "8b868894-2e86-4d7e-a6fa-63cc1d44e387"
      },
      "execution_count": null,
      "outputs": [
        {
          "output_type": "stream",
          "name": "stdout",
          "text": [
            "[(0.3838383838383838,)]\n"
          ]
        }
      ]
    },
    {
      "cell_type": "code",
      "source": [
        "execute_querry(conn, \"select count(survived) from (Select survived, fare FROM titanic order by fare asc limit 89) where survived = 1\")"
      ],
      "metadata": {
        "colab": {
          "base_uri": "https://localhost:8080/"
        },
        "id": "sg0-ZBN9yAJC",
        "outputId": "ab107ed8-29b6-458a-d958-f23b629cd901"
      },
      "execution_count": null,
      "outputs": [
        {
          "output_type": "stream",
          "name": "stdout",
          "text": [
            "[(12,)]\n"
          ]
        }
      ]
    },
    {
      "cell_type": "code",
      "source": [
        "execute_querry(conn, \"SELECT count(sex) FROM titanic where sex='male' and survived=0\")"
      ],
      "metadata": {
        "colab": {
          "base_uri": "https://localhost:8080/"
        },
        "id": "YbbZlKOG7Os5",
        "outputId": "d11f0c75-ccb0-4ed4-b78b-dca59309f90d"
      },
      "execution_count": null,
      "outputs": [
        {
          "output_type": "stream",
          "name": "stdout",
          "text": [
            "[(468,)]\n"
          ]
        }
      ]
    },
    {
      "cell_type": "code",
      "source": [
        "def execute_querry(conn, sql_querry):\n",
        "    \"\"\" create a table from the create_table_sql statement\n",
        "    :param conn: Connection object\n",
        "    :param create_table_sql: a CREATE TABLE statement\n",
        "    :return:\n",
        "    \"\"\"\n",
        "    try:\n",
        "        c = conn.cursor()\n",
        "        c.execute(sql_querry)\n",
        "    except Error as e:\n",
        "        print(e)\n",
        "\n",
        "    print(f\"Returned values: {c.fetchall()[0]}\")\n",
        "    return c.fetchall()"
      ],
      "metadata": {
        "id": "zekkZNYvAgcs"
      },
      "execution_count": null,
      "outputs": []
    },
    {
      "cell_type": "code",
      "source": [
        "out = execute_querry(conn, \"SELECT count(sex) FROM titanic where sex='male' and survived=0\")"
      ],
      "metadata": {
        "id": "zxdSNJPSA7wL"
      },
      "execution_count": null,
      "outputs": []
    },
    {
      "cell_type": "code",
      "source": [
        "out"
      ],
      "metadata": {
        "colab": {
          "base_uri": "https://localhost:8080/"
        },
        "id": "2l9oXidnA--D",
        "outputId": "45594595-5e7e-4598-a2a1-dd538e94dfc9"
      },
      "execution_count": null,
      "outputs": [
        {
          "output_type": "execute_result",
          "data": {
            "text/plain": [
              "[(468,)]"
            ]
          },
          "metadata": {},
          "execution_count": 25
        }
      ]
    },
    {
      "cell_type": "code",
      "source": [
        "out[0][0]"
      ],
      "metadata": {
        "colab": {
          "base_uri": "https://localhost:8080/"
        },
        "id": "mbflV_GaBAXz",
        "outputId": "215245b0-8358-485b-bdd1-f1dd28749143"
      },
      "execution_count": null,
      "outputs": [
        {
          "output_type": "execute_result",
          "data": {
            "text/plain": [
              "468"
            ]
          },
          "metadata": {},
          "execution_count": 27
        }
      ]
    },
    {
      "cell_type": "code",
      "source": [
        "execute_querry(conn, \"SELECT deck, pclass, count(*) FROM titanic group by deck\")"
      ],
      "metadata": {
        "colab": {
          "base_uri": "https://localhost:8080/"
        },
        "id": "20N4I-DSBBrj",
        "outputId": "49727ad1-1003-4da6-b6d4-e33c2cb97a06"
      },
      "execution_count": null,
      "outputs": [
        {
          "output_type": "execute_result",
          "data": {
            "text/plain": [
              "[(None, 3, 688),\n",
              " ('A', 1, 15),\n",
              " ('B', 1, 47),\n",
              " ('C', 1, 59),\n",
              " ('D', 2, 33),\n",
              " ('E', 1, 32),\n",
              " ('F', 2, 13),\n",
              " ('G', 3, 4)]"
            ]
          },
          "metadata": {},
          "execution_count": 40
        }
      ]
    },
    {
      "cell_type": "code",
      "source": [
        "execute_querry(conn, \"SELECT deck, pclass FROM titanic \")"
      ],
      "metadata": {
        "colab": {
          "base_uri": "https://localhost:8080/"
        },
        "id": "0dOOV7oXHKcQ",
        "outputId": "3dd3c19e-829c-4290-8793-126cb4903450"
      },
      "execution_count": null,
      "outputs": [
        {
          "output_type": "execute_result",
          "data": {
            "text/plain": [
              "[(None,), ('C',), ('E',), ('G',), ('D',), ('A',), ('B',), ('F',)]"
            ]
          },
          "metadata": {},
          "execution_count": 39
        }
      ]
    },
    {
      "cell_type": "code",
      "source": [
        "execute_querry(conn, \"SELECT DISTINCT pclass FROM titanic\")"
      ],
      "metadata": {
        "colab": {
          "base_uri": "https://localhost:8080/"
        },
        "id": "D-K01HeSEnhw",
        "outputId": "c02ab495-52a7-4ccf-c751-b66014584ee3"
      },
      "execution_count": null,
      "outputs": [
        {
          "output_type": "execute_result",
          "data": {
            "text/plain": [
              "[(3,), (1,), (2,)]"
            ]
          },
          "metadata": {},
          "execution_count": 30
        }
      ]
    },
    {
      "cell_type": "code",
      "source": [],
      "metadata": {
        "id": "mIuW0-9DGa-w"
      },
      "execution_count": null,
      "outputs": []
    },
    {
      "cell_type": "code",
      "source": [
        "execute_querry(conn, \"SELECT deck, GROUP_CONCAT(DISTINCT pclass ORDER BY pclass ASC) AS classes FROM titanic WHERE deck IS NOT NULL GROUP BY deck ORDER BY deck ASC;\")"
      ],
      "metadata": {
        "colab": {
          "base_uri": "https://localhost:8080/"
        },
        "id": "ZT-MEbaoEwZ_",
        "outputId": "fa79ffb5-4c22-4add-8f13-daef9b636b05"
      },
      "execution_count": null,
      "outputs": [
        {
          "output_type": "stream",
          "name": "stdout",
          "text": [
            "near \"ORDER\": syntax error\n"
          ]
        },
        {
          "output_type": "execute_result",
          "data": {
            "text/plain": [
              "[]"
            ]
          },
          "metadata": {},
          "execution_count": 37
        }
      ]
    },
    {
      "cell_type": "code",
      "source": [],
      "metadata": {
        "id": "g-8QkUaGGX2u"
      },
      "execution_count": null,
      "outputs": []
    }
  ]
}